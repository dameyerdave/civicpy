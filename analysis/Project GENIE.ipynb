{
 "cells": [
  {
   "cell_type": "markdown",
   "metadata": {},
   "source": [
    "# Loading the Project GENIE Cohort"
   ]
  },
  {
   "cell_type": "code",
   "execution_count": 1,
   "metadata": {},
   "outputs": [],
   "source": [
    "import csv\n",
    "from collections import defaultdict, OrderedDict\n",
    "from timeit import default_timer\n",
    "import pandas as pd"
   ]
  },
  {
   "cell_type": "code",
   "execution_count": 2,
   "metadata": {},
   "outputs": [],
   "source": [
    "def get_coordinates_from_genie_record(record):\n",
    "    assert record['NCBI_Build'] == 'GRCh37'\n",
    "    chromosome = str(record['Chromosome'])\n",
    "    start = int(record['Start_Position'])\n",
    "    stop = int(record['End_Position'])\n",
    "    if record['Reference_Allele'] != record['Tumor_Seq_Allele1']:\n",
    "        alt = record['Tumor_Seq_Allele1']\n",
    "    else:\n",
    "        alt = record['Tumor_Seq_Allele2']\n",
    "    if alt == '-':\n",
    "        alt = None\n",
    "    d = OrderedDict([\n",
    "        ('chr', chromosome),\n",
    "        ('start', start),\n",
    "        ('stop', stop),\n",
    "        ('alt', alt),\n",
    "        ('barcode', record['Tumor_Sample_Barcode'])\n",
    "    ])\n",
    "    return d\n",
    "\n",
    "def genie_record_generator(records):\n",
    "    for r in records:\n",
    "        yield get_coordinates_from_genie_record(r)\n",
    "        \n",
    "def genie_caster(records):\n",
    "    for r in records:\n",
    "        d = OrderedDict([\n",
    "            ('chr', r['chr']),\n",
    "            ('start', int(r['start'])),\n",
    "            ('stop', int(r['stop'])),\n",
    "            ('alt', r['alt']),\n",
    "            ('barcode', r['barcode'])\n",
    "        ])\n",
    "        yield d"
   ]
  },
  {
   "cell_type": "code",
   "execution_count": 3,
   "metadata": {},
   "outputs": [],
   "source": [
    "# GENIE data downloaded from https://www.synapse.org/#!Synapse:syn17394041\n",
    "\n",
    "with open('data/data_mutations_extended_5.0-public.txt', 'r') as f:\n",
    "    genie_samples = next(f).split()[1:]\n",
    "    genie_file_reader = csv.DictReader(f, delimiter='\\t')\n",
    "    df = pd.DataFrame.from_dict(genie_record_generator(genie_file_reader))"
   ]
  },
  {
   "cell_type": "code",
   "execution_count": 15,
   "metadata": {},
   "outputs": [],
   "source": [
    "# sort and save the GENIE data in a compatible format\n",
    "\n",
    "df.columns = ['chr', 'start', 'stop', 'alt', 'key']\n",
    "df.sort_values(by=['chr', 'start', 'stop', 'alt', 'key'], inplace=True)\n",
    "df.to_csv('data/genie_5.0_sorted.txt', sep='\\t', index=False)"
   ]
  },
  {
   "cell_type": "markdown",
   "metadata": {},
   "source": [
    "# Searching CIViC"
   ]
  },
  {
   "cell_type": "code",
   "execution_count": 16,
   "metadata": {},
   "outputs": [],
   "source": [
    "from civicpy import civic\n",
    "from collections import Counter\n",
    "civic.load_cache()"
   ]
  },
  {
   "cell_type": "code",
   "execution_count": 17,
   "metadata": {},
   "outputs": [
    {
     "name": "stdout",
     "output_type": "stream",
     "text": [
      "80.9 ms ± 1.05 ms per loop (mean ± std. dev. of 7 runs, 10 loops each)\n"
     ]
    }
   ],
   "source": [
    "%%timeit\n",
    "coords = civic.CoordinateQuery(chr='7', start=140453136, stop=140453136)\n",
    "civic.search_variants_by_coordinates(coords, search_mode='any')"
   ]
  },
  {
   "cell_type": "code",
   "execution_count": 18,
   "metadata": {},
   "outputs": [
    {
     "data": {
      "text/plain": [
       "19"
      ]
     },
     "execution_count": 18,
     "metadata": {},
     "output_type": "execute_result"
    }
   ],
   "source": [
    "coords = civic.CoordinateQuery(chr='7', start=140453136, stop=140453136)\n",
    "x = civic.search_variants_by_coordinates(coords, search_mode='include_larger')\n",
    "len(x)"
   ]
  },
  {
   "cell_type": "code",
   "execution_count": 19,
   "metadata": {},
   "outputs": [
    {
     "name": "stdout",
     "output_type": "stream",
     "text": [
      "['AGK-BRAF', 'TRIM24-BRAF', 'AKAP9-BRAF']\n",
      "['PAPSS1-BRAF', 'BRAF-CUL1', 'AMPLIFICATION']\n",
      "['V600D', 'WILD TYPE', 'V600_K601DELINSD']\n",
      "['KIAA1549-BRAF', 'V600E+V600M', 'V600E AMPLIFICATION']\n",
      "['ZKSCAN1-BRAF', 'V600E', 'PPFIBP2-BRAF']\n",
      "['V600R', 'V600', 'V600K']\n",
      "['MUTATION']\n"
     ]
    }
   ],
   "source": [
    "match_names = [v.name for v in x]\n",
    "for _ in range(0, len(match_names), 3):\n",
    "    print(match_names[_:_+3])"
   ]
  },
  {
   "cell_type": "code",
   "execution_count": 30,
   "metadata": {},
   "outputs": [
    {
     "name": "stdout",
     "output_type": "stream",
     "text": [
      "394.33967355799996\n"
     ]
    }
   ],
   "source": [
    "tick = default_timer()\n",
    "records = [civic.CoordinateQuery(**x) for x in df.to_dict('records')]\n",
    "exact_results = civic.bulk_search_variants_by_coordinates(records, search_mode='exact')\n",
    "tock = default_timer()\n",
    "print(tock-tick)"
   ]
  },
  {
   "cell_type": "code",
   "execution_count": 31,
   "metadata": {},
   "outputs": [
    {
     "name": "stdout",
     "output_type": "stream",
     "text": [
      "418.74014411200017\n"
     ]
    }
   ],
   "source": [
    "tick = default_timer()\n",
    "records = [civic.CoordinateQuery(**x) for x in df.to_dict('records')]\n",
    "permissive_results = civic.bulk_search_variants_by_coordinates(records, search_mode='any')\n",
    "tock = default_timer()\n",
    "print(tock-tick)"
   ]
  },
  {
   "cell_type": "markdown",
   "metadata": {},
   "source": [
    "# DELETE EVERYTHING BELOW THIS"
   ]
  },
  {
   "cell_type": "code",
   "execution_count": 105,
   "metadata": {},
   "outputs": [],
   "source": [
    "from importlib import reload\n",
    "reload(civic)\n",
    "civic.load_cache()"
   ]
  },
  {
   "cell_type": "code",
   "execution_count": 85,
   "metadata": {},
   "outputs": [
    {
     "data": {
      "text/plain": [
       "Int64Index([103], dtype='int64')"
      ]
     },
     "execution_count": 85,
     "metadata": {},
     "output_type": "execute_result"
    }
   ],
   "source": [
    "df.start[df.start.sort_values() <= 533873].index"
   ]
  },
  {
   "cell_type": "code",
   "execution_count": 88,
   "metadata": {},
   "outputs": [],
   "source": [
    "x = df.start.sort_values()\n",
    "a = x[x <= 36932096].index\n",
    "b = x[x >= 36932096].index"
   ]
  },
  {
   "cell_type": "code",
   "execution_count": 89,
   "metadata": {},
   "outputs": [
    {
     "data": {
      "text/plain": [
       "Int64Index([16], dtype='int64')"
      ]
     },
     "execution_count": 89,
     "metadata": {},
     "output_type": "execute_result"
    }
   ],
   "source": [
    "a & b"
   ]
  },
  {
   "cell_type": "code",
   "execution_count": 140,
   "metadata": {},
   "outputs": [],
   "source": [
    "v600e = civic.get_variant_by_id(12)"
   ]
  },
  {
   "cell_type": "code",
   "execution_count": 62,
   "metadata": {},
   "outputs": [],
   "source": [
    "missed_results = list()\n",
    "with open('data/genie_5.0_sorted.txt', 'r') as f:\n",
    "    reader = csv.DictReader(f, delimiter='\\t')\n",
    "    for r in reader:\n",
    "        v = r.values()\n",
    "        if v not in exact_results:\n",
    "            missed_results.append(v)"
   ]
  },
  {
   "cell_type": "code",
   "execution_count": 97,
   "metadata": {},
   "outputs": [
    {
     "data": {
      "text/plain": [
       "59437"
      ]
     },
     "execution_count": 97,
     "metadata": {},
     "output_type": "execute_result"
    }
   ],
   "source": [
    "len(genie_samples)"
   ]
  },
  {
   "cell_type": "code",
   "execution_count": 21,
   "metadata": {},
   "outputs": [
    {
     "data": {
      "text/plain": [
       "2696"
      ]
     },
     "execution_count": 21,
     "metadata": {},
     "output_type": "execute_result"
    }
   ],
   "source": [
    "len(civic.CACHE)"
   ]
  },
  {
   "cell_type": "code",
   "execution_count": 22,
   "metadata": {},
   "outputs": [
    {
     "data": {
      "text/plain": [
       "1520"
      ]
     },
     "execution_count": 22,
     "metadata": {},
     "output_type": "execute_result"
    }
   ],
   "source": [
    "len(civic.COORDINATE_TABLE)"
   ]
  },
  {
   "cell_type": "code",
   "execution_count": 24,
   "metadata": {},
   "outputs": [
    {
     "data": {
      "text/plain": [
       "(1520, 5)"
      ]
     },
     "execution_count": 24,
     "metadata": {},
     "output_type": "execute_result"
    }
   ],
   "source": [
    "civic.COORDINATE_TABLE.shape"
   ]
  },
  {
   "cell_type": "code",
   "execution_count": null,
   "metadata": {},
   "outputs": [],
   "source": []
  }
 ],
 "metadata": {
  "kernelspec": {
   "display_name": "Python 3",
   "language": "python",
   "name": "python3"
  },
  "language_info": {
   "codemirror_mode": {
    "name": "ipython",
    "version": 3
   },
   "file_extension": ".py",
   "mimetype": "text/x-python",
   "name": "python",
   "nbconvert_exporter": "python",
   "pygments_lexer": "ipython3",
   "version": "3.7.3"
  }
 },
 "nbformat": 4,
 "nbformat_minor": 2
}
