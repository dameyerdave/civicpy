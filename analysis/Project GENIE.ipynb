{
 "cells": [
  {
   "cell_type": "markdown",
   "metadata": {},
   "source": [
    "# Loading the Project GENIE Cohort"
   ]
  },
  {
   "cell_type": "code",
   "execution_count": 1,
   "metadata": {},
   "outputs": [],
   "source": [
    "import csv\n",
    "from collections import defaultdict, OrderedDict, Counter\n",
    "from timeit import default_timer\n",
    "import pandas as pd"
   ]
  },
  {
   "cell_type": "code",
   "execution_count": 2,
   "metadata": {},
   "outputs": [],
   "source": [
    "def get_coordinates_from_genie_record(record):\n",
    "    assert record['NCBI_Build'] == 'GRCh37'\n",
    "    chromosome = str(record['Chromosome'])\n",
    "    start = int(record['Start_Position'])\n",
    "    stop = int(record['End_Position'])\n",
    "    if record['Reference_Allele'] != record['Tumor_Seq_Allele1']:\n",
    "        alt = record['Tumor_Seq_Allele1']\n",
    "    else:\n",
    "        alt = record['Tumor_Seq_Allele2']\n",
    "    if alt == '-':\n",
    "        alt = None\n",
    "    d = OrderedDict([\n",
    "        ('chr', chromosome),\n",
    "        ('start', start),\n",
    "        ('stop', stop),\n",
    "        ('alt', alt),\n",
    "        ('barcode', record['Tumor_Sample_Barcode'])\n",
    "    ])\n",
    "    return d\n",
    "\n",
    "def genie_record_generator(records):\n",
    "    for r in records:\n",
    "        yield get_coordinates_from_genie_record(r)\n",
    "        \n",
    "def genie_caster(records):\n",
    "    for r in records:\n",
    "        d = OrderedDict([\n",
    "            ('chr', r['chr']),\n",
    "            ('start', int(r['start'])),\n",
    "            ('stop', int(r['stop'])),\n",
    "            ('alt', r['alt']),\n",
    "            ('barcode', r['barcode'])\n",
    "        ])\n",
    "        yield d"
   ]
  },
  {
   "cell_type": "code",
   "execution_count": 3,
   "metadata": {},
   "outputs": [],
   "source": [
    "# GENIE data downloaded from https://www.synapse.org/#!Synapse:syn17394041\n",
    "\n",
    "with open('data/data_mutations_extended_5.0-public.txt', 'r') as f:\n",
    "    genie_samples = next(f).split()[1:]\n",
    "    genie_file_reader = csv.DictReader(f, delimiter='\\t')\n",
    "    df = pd.DataFrame.from_dict(genie_record_generator(genie_file_reader))"
   ]
  },
  {
   "cell_type": "code",
   "execution_count": 4,
   "metadata": {},
   "outputs": [],
   "source": [
    "# sort and save the GENIE data in a compatible format\n",
    "\n",
    "df.columns = ['chr', 'start', 'stop', 'alt', 'key']\n",
    "df.sort_values(by=['chr', 'start', 'stop', 'alt', 'key'], inplace=True)\n",
    "df.to_csv('data/genie_5.0_sorted.txt', sep='\\t', index=False)"
   ]
  },
  {
   "cell_type": "markdown",
   "metadata": {},
   "source": [
    "# Searching CIViC"
   ]
  },
  {
   "cell_type": "code",
   "execution_count": 5,
   "metadata": {},
   "outputs": [],
   "source": [
    "from civicpy import civic\n",
    "from collections import Counter\n",
    "civic.load_cache()"
   ]
  },
  {
   "cell_type": "code",
   "execution_count": 6,
   "metadata": {},
   "outputs": [
    {
     "name": "stdout",
     "output_type": "stream",
     "text": [
      "82.9 ms ± 968 µs per loop (mean ± std. dev. of 7 runs, 10 loops each)\n"
     ]
    }
   ],
   "source": [
    "%%timeit\n",
    "coords = civic.CoordinateQuery(chr='7', start=140453136, stop=140453136)\n",
    "civic.search_variants_by_coordinates(coords, search_mode='any')"
   ]
  },
  {
   "cell_type": "code",
   "execution_count": 7,
   "metadata": {},
   "outputs": [
    {
     "data": {
      "text/plain": [
       "19"
      ]
     },
     "execution_count": 7,
     "metadata": {},
     "output_type": "execute_result"
    }
   ],
   "source": [
    "coords = civic.CoordinateQuery(chr='7', start=140453136, stop=140453136)\n",
    "x = civic.search_variants_by_coordinates(coords, search_mode='include_larger')\n",
    "len(x)"
   ]
  },
  {
   "cell_type": "code",
   "execution_count": 8,
   "metadata": {},
   "outputs": [
    {
     "name": "stdout",
     "output_type": "stream",
     "text": [
      "['AGK-BRAF', 'KIAA1549-BRAF', 'TRIM24-BRAF']\n",
      "['PAPSS1-BRAF', 'AKAP9-BRAF', 'AMPLIFICATION']\n",
      "['V600D', 'WILD TYPE', 'V600_K601DELINSD']\n",
      "['BRAF-CUL1', 'V600E+V600M', 'V600E AMPLIFICATION']\n",
      "['ZKSCAN1-BRAF', 'V600E', 'PPFIBP2-BRAF']\n",
      "['V600R', 'V600', 'V600K']\n",
      "['MUTATION']\n"
     ]
    }
   ],
   "source": [
    "match_names = [v.name for v in x]\n",
    "for _ in range(0, len(match_names), 3):\n",
    "    print(match_names[_:_+3])"
   ]
  },
  {
   "cell_type": "code",
   "execution_count": 9,
   "metadata": {},
   "outputs": [],
   "source": [
    "def time_search(df, mode='any', subset=None):\n",
    "    if subset:\n",
    "        records = [civic.CoordinateQuery(**x) for x in df.sample(subset).sort_values(by=['chr', 'start', 'stop', 'alt', 'key']).to_dict('records')]\n",
    "    else:\n",
    "        records = [civic.CoordinateQuery(**x) for x in df.to_dict('records')]\n",
    "    tick = default_timer()\n",
    "    results = civic.bulk_search_variants_by_coordinates(records, search_mode=mode)\n",
    "    tock = default_timer()\n",
    "    return tock-tick, results"
   ]
  },
  {
   "cell_type": "code",
   "execution_count": 10,
   "metadata": {},
   "outputs": [],
   "source": [
    "subsets = [1, 3, 10, 30, 100, 300, 1000, 3000, 10000, 30000, 100000, 300000]\n",
    "timings = dict()\n",
    "for subset in subsets:\n",
    "    timings[subset], _ = time_search(df, mode='exact', subset=subset)\n",
    "timings[len(df)], exact_results = time_search(df, mode='exact')"
   ]
  },
  {
   "cell_type": "code",
   "execution_count": 12,
   "metadata": {},
   "outputs": [
    {
     "name": "stdout",
     "output_type": "stream",
     "text": [
      "436.1503577210001\n"
     ]
    }
   ],
   "source": [
    "tick = default_timer()\n",
    "records = [civic.CoordinateQuery(**x) for x in df.to_dict('records')]\n",
    "permissive_results = civic.bulk_search_variants_by_coordinates(records, search_mode='any')\n",
    "tock = default_timer()\n",
    "print(tock-tick)"
   ]
  },
  {
   "cell_type": "markdown",
   "metadata": {},
   "source": [
    "# Results"
   ]
  },
  {
   "cell_type": "code",
   "execution_count": 13,
   "metadata": {},
   "outputs": [],
   "source": [
    "import matplotlib.pyplot as plt\n",
    "import numpy as np\n",
    "from numpy.polynomial.polynomial import polyfit"
   ]
  },
  {
   "cell_type": "code",
   "execution_count": 14,
   "metadata": {},
   "outputs": [],
   "source": [
    "exact_ct = len(exact_results)\n",
    "permissive_ct = len(permissive_results)\n",
    "full_ct = len(df)"
   ]
  },
  {
   "cell_type": "code",
   "execution_count": 15,
   "metadata": {},
   "outputs": [],
   "source": [
    "pmsv_xs = permissive_ct - exact_ct\n",
    "rmdr = full_ct - permissive_ct"
   ]
  },
  {
   "cell_type": "code",
   "execution_count": 16,
   "metadata": {},
   "outputs": [],
   "source": [
    "exact_tumor = defaultdict(list)\n",
    "for q in exact_results.keys():\n",
    "    exact_tumor[q.key].extend(exact_results[q])\n",
    "permissive_tumor = defaultdict(list)\n",
    "for q in permissive_results.keys():\n",
    "    permissive_tumor[q.key].extend(permissive_results[q])"
   ]
  },
  {
   "cell_type": "code",
   "execution_count": 17,
   "metadata": {},
   "outputs": [],
   "source": [
    "genie_samples_ct = len(genie_samples)\n",
    "no_variant_ct = len(set(genie_samples) - set(df.key))\n",
    "perm_tum_ct = len(permissive_tumor)\n",
    "exct_tum_ct = len(exact_tumor)\n",
    "no_match_ct = genie_samples_ct - no_variant_ct - perm_tum_ct\n",
    "perm_tum_xs = perm_tum_ct - exct_tum_ct"
   ]
  },
  {
   "cell_type": "code",
   "execution_count": 18,
   "metadata": {},
   "outputs": [
    {
     "data": {
      "image/png": "[encoded data removed]",
      "text/plain": [
       "<Figure size 432x288 with 1 Axes>"
      ]
     },
     "metadata": {},
     "output_type": "display_data"
    }
   ],
   "source": [
    "fig, ax = plt.subplots()\n",
    "\n",
    "size = 0.3\n",
    "var_vals = [exact_ct, pmsv_xs, rmdr]\n",
    "tum_vals = [exct_tum_ct, perm_tum_xs, no_match_ct, no_variant_ct]\n",
    "\n",
    "cmap = plt.get_cmap(\"tab20c\")\n",
    "outer_colors = cmap(np.arange(4)*4)\n",
    "inner_colors = cmap(np.arange(3)*4)\n",
    "\n",
    "ax.pie(tum_vals, radius=1, colors=outer_colors,\n",
    "       wedgeprops=dict(width=size, edgecolor='w'))\n",
    "\n",
    "ax.pie(var_vals, radius=1-size, colors=inner_colors,\n",
    "       wedgeprops=dict(width=size, edgecolor='w'))\n",
    "\n",
    "ax.set(aspect=\"equal\")\n",
    "# plt.show()\n",
    "plt.savefig('data/donut.svg')"
   ]
  },
  {
   "cell_type": "code",
   "execution_count": 19,
   "metadata": {},
   "outputs": [],
   "source": [
    "x_late = np.array(sorted(timings)[6:])\n",
    "x_xtd = np.array(sorted(timings)[4:])\n",
    "y_late = [timings[x] for x in x_late]\n",
    "b, m = polyfit(x_late, y_late, 1)"
   ]
  },
  {
   "cell_type": "code",
   "execution_count": 20,
   "metadata": {},
   "outputs": [
    {
     "name": "stdout",
     "output_type": "stream",
     "text": [
      "0.8952533220529592 ms/variant\n"
     ]
    },
    {
     "data": {
      "image/png": "[encoded data removed]",
      "text/plain": [
       "<Figure size 432x288 with 1 Axes>"
      ]
     },
     "metadata": {
      "needs_background": "light"
     },
     "output_type": "display_data"
    }
   ],
   "source": [
    "plt.xscale('log')\n",
    "plt.yscale('log')\n",
    "plt.scatter(sorted(timings), [timings[x] for x in sorted(timings)])\n",
    "plt.plot(x_xtd, b + m * x_xtd, '-')\n",
    "plt.savefig('data/scatter.svg')\n",
    "print('{} ms/variant'.format(m*1000))"
   ]
  },
  {
   "cell_type": "code",
   "execution_count": 21,
   "metadata": {},
   "outputs": [],
   "source": [
    "match_counts = defaultdict(Counter)\n",
    "levels = ['A','B','C','D','E']\n",
    "for tumor, matches in exact_tumor.items():\n",
    "    match_count = len(matches)\n",
    "    highest_evidence = 4\n",
    "    for match in matches:\n",
    "        v = civic.CACHE[match.v_hash]\n",
    "        for e in v.evidence:\n",
    "            if levels.index(e.evidence_level) < highest_evidence:\n",
    "                highest_evidence = levels.index(e.evidence_level)\n",
    "    match_counts[match_count][levels[highest_evidence]] += 1        "
   ]
  },
  {
   "cell_type": "code",
   "execution_count": 22,
   "metadata": {},
   "outputs": [
    {
     "data": {
      "image/png": "[encoded data removed]",
      "text/plain": [
       "<Figure size 432x288 with 1 Axes>"
      ]
     },
     "metadata": {
      "needs_background": "light"
     },
     "output_type": "display_data"
    }
   ],
   "source": [
    "barWidth = 0.25\n",
    "colors = ['#3ab15c', '#20b2e3', '#6270b0', '#f38e42', '#de495c']\n",
    "\n",
    "for label in levels:\n",
    "    idx = levels.index(label)\n",
    "    counts = [match_counts[x][label] for x in range(1,9)]\n",
    "    r = np.arange(len(counts))*1.5 + barWidth * idx\n",
    "    plt.bar(r, counts, color=colors[idx], width=barWidth, edgecolor='white', label=label)\n",
    "plt.yscale('log')\n",
    "plt.xlabel('Variants Matched from Tumor', fontweight='bold')\n",
    "plt.xticks([r * 1.5 + 2 * barWidth for r in range(8)], range(1,9))\n",
    "plt.ylabel('Highest Evidence Level Matches', fontweight='bold')\n",
    "plt.legend(title='Evidence Level')\n",
    "plt.savefig('data/grouped_bar.svg')"
   ]
  },
  {
   "cell_type": "code",
   "execution_count": 23,
   "metadata": {},
   "outputs": [],
   "source": [
    "mcv = match_counts.values()\n",
    "summed_counts = Counter()\n",
    "for c in mcv:\n",
    "    summed_counts += c"
   ]
  },
  {
   "cell_type": "code",
   "execution_count": 24,
   "metadata": {},
   "outputs": [
    {
     "data": {
      "image/png": "[encoded data removed]",
      "text/plain": [
       "<Figure size 432x288 with 1 Axes>"
      ]
     },
     "metadata": {},
     "output_type": "display_data"
    }
   ],
   "source": [
    "counts = [summed_counts[x] for x in levels]\n",
    "plt.pie(counts, colors=colors, wedgeprops=dict(edgecolor='w'))\n",
    "plt.savefig('data/pie.svg')"
   ]
  },
  {
   "cell_type": "code",
   "execution_count": 25,
   "metadata": {},
   "outputs": [
    {
     "data": {
      "text/plain": [
       "6.876070461160556"
      ]
     },
     "execution_count": 25,
     "metadata": {},
     "output_type": "execute_result"
    }
   ],
   "source": [
    "# Average number of reported variants / tumor\n",
    "df.groupby('key').count().alt.sum() / len(genie_samples)"
   ]
  }
 ],
 "metadata": {
  "kernelspec": {
   "display_name": "Python 3",
   "language": "python",
   "name": "python3"
  },
  "language_info": {
   "codemirror_mode": {
    "name": "ipython",
    "version": 3
   },
   "file_extension": ".py",
   "mimetype": "text/x-python",
   "name": "python",
   "nbconvert_exporter": "python",
   "pygments_lexer": "ipython3",
   "version": "3.7.3"
  }
 },
 "nbformat": 4,
 "nbformat_minor": 2
}
