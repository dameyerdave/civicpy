{
 "cells": [
  {
   "cell_type": "code",
   "execution_count": 1,
   "metadata": {},
   "outputs": [
    {
     "data": {
      "text/plain": [
       "'1.0.0-rc3'"
      ]
     },
     "execution_count": 1,
     "metadata": {},
     "output_type": "execute_result"
    }
   ],
   "source": [
    "from civicpy import civic, version\n",
    "version()"
   ]
  },
  {
   "cell_type": "markdown",
   "metadata": {},
   "source": [
    "## Exploring CIViC Variant 12"
   ]
  },
  {
   "cell_type": "code",
   "execution_count": 2,
   "metadata": {},
   "outputs": [
    {
     "data": {
      "text/plain": [
       "<CIViC variant 12>"
      ]
     },
     "execution_count": 2,
     "metadata": {},
     "output_type": "execute_result"
    }
   ],
   "source": [
    "# Get a Variant object by its CIViC Variant ID\n",
    "variant = civic.get_variant_by_id(12)\n",
    "variant"
   ]
  },
  {
   "cell_type": "code",
   "execution_count": 3,
   "metadata": {},
   "outputs": [
    {
     "data": {
      "text/plain": [
       "('BRAF', 'V600E')"
      ]
     },
     "execution_count": 3,
     "metadata": {},
     "output_type": "execute_result"
    }
   ],
   "source": [
    "# Explore details of the Variant object, and related Gene object\n",
    "(variant.gene.name, variant.name)"
   ]
  },
  {
   "cell_type": "code",
   "execution_count": 4,
   "metadata": {},
   "outputs": [
    {
     "data": {
      "text/plain": [
       "[<CIViC evidence 3766>,\n",
       " <CIViC evidence 7485>,\n",
       " <CIViC evidence 7077>,\n",
       " <CIViC evidence 6975>,\n",
       " <CIViC evidence 3768>,\n",
       " <CIViC evidence 3781>,\n",
       " <CIViC evidence 3783>,\n",
       " <CIViC evidence 1591>,\n",
       " <CIViC evidence 3017>,\n",
       " <CIViC evidence 3769>,\n",
       " <CIViC evidence 3772>,\n",
       " <CIViC evidence 3744>,\n",
       " <CIViC evidence 3767>,\n",
       " <CIViC evidence 3777>,\n",
       " <CIViC evidence 3750>,\n",
       " <CIViC evidence 82>,\n",
       " <CIViC evidence 3759>,\n",
       " <CIViC evidence 126>,\n",
       " <CIViC evidence 105>,\n",
       " <CIViC evidence 107>,\n",
       " <CIViC evidence 79>,\n",
       " <CIViC evidence 80>,\n",
       " <CIViC evidence 86>,\n",
       " <CIViC evidence 90>,\n",
       " <CIViC evidence 1409>,\n",
       " <CIViC evidence 2894>,\n",
       " <CIViC evidence 89>,\n",
       " <CIViC evidence 2115>,\n",
       " <CIViC evidence 91>,\n",
       " <CIViC evidence 6940>,\n",
       " <CIViC evidence 95>,\n",
       " <CIViC evidence 96>,\n",
       " <CIViC evidence 97>,\n",
       " <CIViC evidence 99>,\n",
       " <CIViC evidence 98>,\n",
       " <CIViC evidence 102>,\n",
       " <CIViC evidence 103>,\n",
       " <CIViC evidence 104>,\n",
       " <CIViC evidence 106>,\n",
       " <CIViC evidence 3746>,\n",
       " <CIViC evidence 2132>,\n",
       " <CIViC evidence 3787>,\n",
       " <CIViC evidence 3790>,\n",
       " <CIViC evidence 3743>,\n",
       " <CIViC evidence 3788>,\n",
       " <CIViC evidence 3789>,\n",
       " <CIViC evidence 1698>,\n",
       " <CIViC evidence 1699>,\n",
       " <CIViC evidence 2118>,\n",
       " <CIViC evidence 2117>,\n",
       " <CIViC evidence 1413>,\n",
       " <CIViC evidence 463>,\n",
       " <CIViC evidence 7454>,\n",
       " <CIViC evidence 7453>,\n",
       " <CIViC evidence 3758>,\n",
       " <CIViC evidence 2143>,\n",
       " <CIViC evidence 1408>,\n",
       " <CIViC evidence 1406>,\n",
       " <CIViC evidence 3762>,\n",
       " <CIViC evidence 3753>,\n",
       " <CIViC evidence 1410>,\n",
       " <CIViC evidence 2119>,\n",
       " <CIViC evidence 3738>,\n",
       " <CIViC evidence 656>,\n",
       " <CIViC evidence 757>,\n",
       " <CIViC evidence 816>,\n",
       " <CIViC evidence 1428>,\n",
       " <CIViC evidence 1005>,\n",
       " <CIViC evidence 3775>,\n",
       " <CIViC evidence 3778>,\n",
       " <CIViC evidence 1127>,\n",
       " <CIViC evidence 1141>,\n",
       " <CIViC evidence 3747>,\n",
       " <CIViC evidence 3748>,\n",
       " <CIViC evidence 2134>,\n",
       " <CIViC evidence 2131>,\n",
       " <CIViC evidence 2130>,\n",
       " <CIViC evidence 2125>,\n",
       " <CIViC evidence 2128>,\n",
       " <CIViC evidence 2123>,\n",
       " <CIViC evidence 1398>,\n",
       " <CIViC evidence 1405>,\n",
       " <CIViC evidence 1414>,\n",
       " <CIViC evidence 1421>,\n",
       " <CIViC evidence 1430>,\n",
       " <CIViC evidence 1552>,\n",
       " <CIViC evidence 6045>,\n",
       " <CIViC evidence 3742>,\n",
       " <CIViC evidence 1579>,\n",
       " <CIViC evidence 1589>,\n",
       " <CIViC evidence 2135>,\n",
       " <CIViC evidence 2121>,\n",
       " <CIViC evidence 1902>,\n",
       " <CIViC evidence 1940>,\n",
       " <CIViC evidence 2124>,\n",
       " <CIViC evidence 1749>,\n",
       " <CIViC evidence 2127>,\n",
       " <CIViC evidence 2122>,\n",
       " <CIViC evidence 2126>,\n",
       " <CIViC evidence 3745>,\n",
       " <CIViC evidence 2133>,\n",
       " <CIViC evidence 2141>,\n",
       " <CIViC evidence 2504>,\n",
       " <CIViC evidence 2137>,\n",
       " <CIViC evidence 2142>,\n",
       " <CIViC evidence 2129>,\n",
       " <CIViC evidence 2136>,\n",
       " <CIViC evidence 2146>,\n",
       " <CIViC evidence 2139>,\n",
       " <CIViC evidence 2140>,\n",
       " <CIViC evidence 2138>,\n",
       " <CIViC evidence 2503>,\n",
       " <CIViC evidence 2144>,\n",
       " <CIViC evidence 3765>,\n",
       " <CIViC evidence 2145>,\n",
       " <CIViC evidence 3780>,\n",
       " <CIViC evidence 7157>,\n",
       " <CIViC evidence 3739>,\n",
       " <CIViC evidence 3736>,\n",
       " <CIViC evidence 3749>,\n",
       " <CIViC evidence 3741>,\n",
       " <CIViC evidence 3751>,\n",
       " <CIViC evidence 3740>,\n",
       " <CIViC evidence 3754>,\n",
       " <CIViC evidence 3752>,\n",
       " <CIViC evidence 3756>,\n",
       " <CIViC evidence 3761>,\n",
       " <CIViC evidence 3755>,\n",
       " <CIViC evidence 3760>,\n",
       " <CIViC evidence 3763>,\n",
       " <CIViC evidence 3770>,\n",
       " <CIViC evidence 3774>,\n",
       " <CIViC evidence 3757>,\n",
       " <CIViC evidence 3764>,\n",
       " <CIViC evidence 3771>,\n",
       " <CIViC evidence 3773>,\n",
       " <CIViC evidence 3782>,\n",
       " <CIViC evidence 3785>,\n",
       " <CIViC evidence 3776>,\n",
       " <CIViC evidence 3779>,\n",
       " <CIViC evidence 3784>,\n",
       " <CIViC evidence 3786>,\n",
       " <CIViC evidence 5906>,\n",
       " <CIViC evidence 5902>,\n",
       " <CIViC evidence 5903>,\n",
       " <CIViC evidence 5904>,\n",
       " <CIViC evidence 5962>,\n",
       " <CIViC evidence 5961>,\n",
       " <CIViC evidence 5960>,\n",
       " <CIViC evidence 5959>,\n",
       " <CIViC evidence 5958>,\n",
       " <CIViC evidence 6123>,\n",
       " <CIViC evidence 6124>,\n",
       " <CIViC evidence 6178>,\n",
       " <CIViC evidence 6938>,\n",
       " <CIViC evidence 7156>,\n",
       " <CIViC evidence 7191>,\n",
       " <CIViC evidence 7260>,\n",
       " <CIViC evidence 7264>,\n",
       " <CIViC evidence 7583>,\n",
       " <CIViC evidence 7612>,\n",
       " <CIViC evidence 7762>,\n",
       " <CIViC evidence 7761>]"
      ]
     },
     "execution_count": 4,
     "metadata": {},
     "output_type": "execute_result"
    }
   ],
   "source": [
    "# A list of all evidence associated with this variant\n",
    "variant.evidence"
   ]
  },
  {
   "cell_type": "code",
   "execution_count": 5,
   "metadata": {},
   "outputs": [
    {
     "name": "stdout",
     "output_type": "stream",
     "text": [
      "There are 5 assertions for this variant.\n",
      "Description of CIViC Assertion 10:\n",
      "\n",
      "Vemurafenib and cobimetinib combination is an FDA approved and NCCN Category 1 first line treatment for BRAF V600E mutant metastatic melanoma based on clinical data including the Phase III coBRIM trial. NCCN guidelines recommend combination BRAF/MEK inhibitor therapy over BRAF inhibitor monotherapy in this treatment context. Vemurafenib and cobimetinib combination is recommend as Category 2A treatment in second-line or later contexts, and it is recommended to use treatment options different from those used with the patient during first-line therapy. The cobas 4800 BRAF V600 Mutation Test is approved as an FDA companion test for Cotellic (cobimetinib) in combination with Zelboraf (vemurafenib).\n"
     ]
    }
   ],
   "source": [
    "# A CIViC Assertion tied to this variant, and details corresponding to the Assertion\n",
    "print(f'There are {len(variant.assertions)} assertions for this variant.')\n",
    "assertion = variant.assertions[0]\n",
    "print(f'Description of CIViC Assertion {assertion.id}:\\n')\n",
    "print(assertion.description)"
   ]
  },
  {
   "cell_type": "code",
   "execution_count": 6,
   "metadata": {},
   "outputs": [
    {
     "data": {
      "text/plain": [
       "True"
      ]
     },
     "execution_count": 6,
     "metadata": {},
     "output_type": "execute_result"
    }
   ],
   "source": [
    "# Collecting all evidence, and refining on evidence status\n",
    "all_evidence = civic.get_all_evidence()\n",
    "submitted_and_accepted_evidence = civic.get_all_evidence(include_status=['accepted', 'submitted'])\n",
    "len(all_evidence) > len(submitted_and_accepted_evidence)"
   ]
  },
  {
   "cell_type": "code",
   "execution_count": 7,
   "metadata": {},
   "outputs": [
    {
     "data": {
      "text/plain": [
       "['aliases',\n",
       " 'allele_registry_id',\n",
       " 'assertions',\n",
       " 'civic_actionability_score',\n",
       " 'clinvar_entries',\n",
       " 'coordinates',\n",
       " 'description',\n",
       " 'entrez_id',\n",
       " 'entrez_name',\n",
       " 'evidence',\n",
       " 'evidence_items',\n",
       " 'evidence_sources',\n",
       " 'gene',\n",
       " 'gene_id',\n",
       " 'groups',\n",
       " 'hgvs_expressions',\n",
       " 'id',\n",
       " 'is_deletion',\n",
       " 'is_insertion',\n",
       " 'is_valid_for_vcf',\n",
       " 'name',\n",
       " 'site_link',\n",
       " 'sources',\n",
       " 'type',\n",
       " 'types',\n",
       " 'update',\n",
       " 'variant_aliases',\n",
       " 'variant_groups',\n",
       " 'variant_types']"
      ]
     },
     "execution_count": 7,
     "metadata": {},
     "output_type": "execute_result"
    }
   ],
   "source": [
    "# A list of attributes for any CivicRecord object can be found using the Python dir() built-in.\n",
    "dir(variant)"
   ]
  },
  {
   "cell_type": "markdown",
   "metadata": {},
   "source": [
    "## Exporting to VCF"
   ]
  },
  {
   "cell_type": "code",
   "execution_count": 8,
   "metadata": {
    "scrolled": true
   },
   "outputs": [
    {
     "name": "stdout",
     "output_type": "stream",
     "text": [
      "##fileformat=VCFv4.2\n",
      "\n",
      "##fileDate=20191216\n",
      "\n",
      "##reference=ftp://ftp.ncbi.nih.gov/genbank/genomes/Eukaryotes/vertebrates_mammals/Homo_sapiens/GRCh37/special_requests/GRCh37-lite.fa.gz\n",
      "\n",
      "##source=CIViCpy_v1.0.0-rc3\n",
      "\n",
      "##aboutURL=https://civicdb.org/help/evidence/overview\n",
      "\n",
      "##INFO=<ID=GN,Number=1,Type=String,Description=HGNC Gene Symbol>\n",
      "\n",
      "##INFO=<ID=VT,Number=1,Type=String,Description=CIViC Variant Name>\n",
      "\n",
      "##INFO=<ID=CSQ,Number=.,Type=String,Description=Consequence annotations from CIViC. Format: Allele|Consequence|SYMBOL|Entrez Gene ID|Feature_type|Feature|HGVSc|HGVSp|CIViC Variant Name|CIViC Variant ID|CIViC Variant Aliases|CIViC HGVS|Allele Registry ID|ClinVar IDs|CIViC Variant Evidence Score|CIViC Entity Type|CIViC Entity ID|CIViC Entity URL|CIViC Entity Source|CIViC Entity Variant Origin|CIViC Entity Status>\n",
      "\n",
      "#CHROM\tPOS\tID\tREF\tALT\tQUAL\tFILTER\tINFO\n",
      "\n",
      "7\t140453136\t12\tA\tT\t.\t.\tGN=BRAF;VT=V600E;CSQ=T|missense_variant|BRAF|673|transcript|ENST00000288602.6|ENST00000288602.6:c.1799T>A||V600E|12|VAL600GLU&RS113488022|ENST00000288602\\x2E6\\x3Ac\\x2E1799T\\x3EA&NC\\x5F000007\\x2E13\\x3Ag\\x2E140453136A\\x3ET&NP\\x5F004324\\x2E2\\x3Ap\\x2EVal600Glu&NM\\x5F004333\\x2E4\\x3Ac\\x2E1799T\\x3EA|CA123643|13961|1019.0|evidence|3766|https://civicdb.org/links/evidence/3766|22621641_(PubMed)|Somatic|submitted,T|missense_variant|BRAF|673|transcript|ENST00000288602.6|ENST00000288602.6:c.1799T>A||V600E|12|VAL600GLU&RS113488022|ENST00000288602\\x2E6\\x3Ac\\x2E1799T\\x3EA&NC\\x5F000007\\x2E13\\x3Ag\\x2E140453136A\\x3ET&NP\\x5F004324\\x2E2\\x3Ap\\x2EVal600Glu&NM\\x5F004333\\x2E4\\x3Ac\\x2E1799T\\x3EA|CA123643|13961|1019.0|evidence|7485|https://civicdb.org/links/evidence/7485|31151904_(PubMed)|Somatic|submitted,T|missense_variant|BRAF|673|transcript|ENST00000288602.6|ENST00000288602.6:c.1799T>A||V600E|12|VAL600GLU&RS113488022|ENST00000288602\\x2E6\\x3Ac\\x2E1799T\\x3EA&NC\\x5F000007\\x2E13\\x3Ag\\x2E140453136A\\x3ET&NP\\x5F004324\\x2E2\\x3Ap\\x2EVal600Glu&NM\\x5F004333\\x2E4\\x3Ac\\x2E1799T\\x3EA|CA123643|13961|1019.0|evidence|7077|https://civicdb.org/links/evidence/7077|25527633_(PubMed)|Somatic|submitted,T|missense_variant|BRAF|673|transcript|ENST00000288602.6|ENST00000288602.6:c.1799T>A||V600E|12|VAL600GLU&RS113488022|ENST00000288602\\x2E6\\x3Ac\\x2E1799T\\x3EA&NC\\x5F000007\\x2E13\\x3Ag\\x2E140453136A\\x3ET&NP\\x5F004324\\x2E2\\x3Ap\\x2EVal600Glu&NM\\x5F004333\\x2E4\\x3Ac\\x2E1799T\\x3EA|CA123643|13961|1019.0|evidence|6975|https://civicdb.org/links/evidence/6975|29072975_(PubMed)|Somatic|accepted,T|missense_variant|BRAF|673|transcript|ENST00000288602.6|ENST00000288602.6:c.1799T>A||V600E|12|VAL600GLU&RS113488022|ENST00000288602\\x2E6\\x3Ac\\x2E1799T\\x3EA&NC\\x5F000007\\x2E13\\x3Ag\\x2E140453136A\\x3ET&NP\\x5F004324\\x2E2\\x3Ap\\x2EVal600Glu&NM\\x5F004333\\x2E4\\x3Ac\\x2E1799T\\x3EA|CA123643|13961|1019.0|evidence|3768|https://civicdb.org/links/evidence/3768|23278307_(PubMed)|Somatic|submitted,T|missense_variant|BRAF|673|transcript|ENST00000288602.6|ENST00000288602.6:c.1799T>A||V600E|12|VAL600GLU&RS113488022|ENST00000288602\\x2E6\\x3Ac\\x2E1799T\\x3EA&NC\\x5F000007\\x2E13\\x3Ag\\x2E140453136A\\x3ET&NP\\x5F004324\\x2E2\\x3Ap\\x2EVal600Glu&NM\\x5F004333\\x2E4\\x3Ac\\x2E1799T\\x3EA|CA123643|13961|1019.0|evidence|3781|https://civicdb.org/links/evidence/3781|23733758_(PubMed)|Somatic|submitted,T|missense_variant|BRAF|673|transcript|ENST00000288602.6|ENST00000288602.6:c.1799T>A||V600E|12|VAL600GLU&RS113488022|ENST00000288602\\x2E6\\x3Ac\\x2E1799T\\x3EA&NC\\x5F000007\\x2E13\\x3Ag\\x2E140453136A\\x3ET&NP\\x5F004324\\x2E2\\x3Ap\\x2EVal600Glu&NM\\x5F004333\\x2E4\\x3Ac\\x2E1799T\\x3EA|CA123643|13961|1019.0|evidence|3783|https://civicdb.org/links/evidence/3783|26776917_(PubMed)|Somatic|submitted,T|missense_variant|BRAF|673|transcript|ENST00000288602.6|ENST00000288602.6:c.1799T>A||V600E|12|VAL600GLU&RS113488022|ENST00000288602\\x2E6\\x3Ac\\x2E1799T\\x3EA&NC\\x5F000007\\x2E13\\x3Ag\\x2E140453136A\\x3ET&NP\\x5F004324\\x2E2\\x3Ap\\x2EVal600Glu&NM\\x5F004333\\x2E4\\x3Ac\\x2E1799T\\x3EA|CA123643|13961|1019.0|evidence|1591|https://civicdb.org/links/evidence/1591|27460442_(PubMed)|Somatic|accepted,T|missense_variant|BRAF|673|transcript|ENST00000288602.6|ENST00000288602.6:c.1799T>A||V600E|12|VAL600GLU&RS113488022|ENST00000288602\\x2E6\\x3Ac\\x2E1799T\\x3EA&NC\\x5F000007\\x2E13\\x3Ag\\x2E140453136A\\x3ET&NP\\x5F004324\\x2E2\\x3Ap\\x2EVal600Glu&NM\\x5F004333\\x2E4\\x3Ac\\x2E1799T\\x3EA|CA123643|13961|1019.0|evidence|3017|https://civicdb.org/links/evidence/3017|27283860_(PubMed)|Somatic|accepted,T|missense_variant|BRAF|673|transcript|ENST00000288602.6|ENST00000288602.6:c.1799T>A||V600E|12|VAL600GLU&RS113488022|ENST00000288602\\x2E6\\x3Ac\\x2E1799T\\x3EA&NC\\x5F000007\\x2E13\\x3Ag\\x2E140453136A\\x3ET&NP\\x5F004324\\x2E2\\x3Ap\\x2EVal600Glu&NM\\x5F004333\\x2E4\\x3Ac\\x2E1799T\\x3EA|CA123643|13961|1019.0|evidence|3769|https://civicdb.org/links/evidence/3769|25815361_(PubMed)|Somatic|submitted,T|missense_variant|BRAF|673|transcript|ENST00000288602.6|ENST00000288602.6:c.1799T>A||V600E|12|VAL600GLU&RS113488022|ENST00000288602\\x2E6\\x3Ac\\x2E1799T\\x3EA&NC\\x5F000007\\x2E13\\x3Ag\\x2E140453136A\\x3ET&NP\\x5F004324\\x2E2\\x3Ap\\x2EVal600Glu&NM\\x5F004333\\x2E4\\x3Ac\\x2E1799T\\x3EA|CA123643|13961|1019.0|evidence|3772|https://civicdb.org/links/evidence/3772|24821190_(PubMed)|Somatic|submitted,T|missense_variant|BRAF|673|transcript|ENST00000288602.6|ENST00000288602.6:c.1799T>A||V600E|12|VAL600GLU&RS113488022|ENST00000288602\\x2E6\\x3Ac\\x2E1799T\\x3EA&NC\\x5F000007\\x2E13\\x3Ag\\x2E140453136A\\x3ET&NP\\x5F004324\\x2E2\\x3Ap\\x2EVal600Glu&NM\\x5F004333\\x2E4\\x3Ac\\x2E1799T\\x3EA|CA123643|13961|1019.0|evidence|3744|https://civicdb.org/links/evidence/3744|27532222_(PubMed)|Somatic|submitted,T|missense_variant|BRAF|673|transcript|ENST00000288602.6|ENST00000288602.6:c.1799T>A||V600E|12|VAL600GLU&RS113488022|ENST00000288602\\x2E6\\x3Ac\\x2E1799T\\x3EA&NC\\x5F000007\\x2E13\\x3Ag\\x2E140453136A\\x3ET&NP\\x5F004324\\x2E2\\x3Ap\\x2EVal600Glu&NM\\x5F004333\\x2E4\\x3Ac\\x2E1799T\\x3EA|CA123643|13961|1019.0|evidence|3767|https://civicdb.org/links/evidence/3767|23300174_(PubMed)|Somatic|submitted,T|missense_variant|BRAF|673|transcript|ENST00000288602.6|ENST00000288602.6:c.1799T>A||V600E|12|VAL600GLU&RS113488022|ENST00000288602\\x2E6\\x3Ac\\x2E1799T\\x3EA&NC\\x5F000007\\x2E13\\x3Ag\\x2E140453136A\\x3ET&NP\\x5F004324\\x2E2\\x3Ap\\x2EVal600Glu&NM\\x5F004333\\x2E4\\x3Ac\\x2E1799T\\x3EA|CA123643|13961|1019.0|evidence|3777|https://civicdb.org/links/evidence/3777|25524464_(PubMed)|Somatic|accepted,T|missense_variant|BRAF|673|transcript|ENST00000288602.6|ENST00000288602.6:c.1799T>A||V600E|12|VAL600GLU&RS113488022|ENST00000288602\\x2E6\\x3Ac\\x2E1799T\\x3EA&NC\\x5F000007\\x2E13\\x3Ag\\x2E140453136A\\x3ET&NP\\x5F004324\\x2E2\\x3Ap\\x2EVal600Glu&NM\\x5F004333\\x2E4\\x3Ac\\x2E1799T\\x3EA|CA123643|13961|1019.0|evidence|3750|https://civicdb.org/links/evidence/3750|23569304_(PubMed)|Somatic|accepted,T|missense_variant|BRAF|673|transcript|ENST00000288602.6|ENST00000288602.6:c.1799T>A||V600E|12|VAL600GLU&RS113488022|ENST00000288602\\x2E6\\x3Ac\\x2E1799T\\x3EA&NC\\x5F000007\\x2E13\\x3Ag\\x2E140453136A\\x3ET&NP\\x5F004324\\x2E2\\x3Ap\\x2EVal600Glu&NM\\x5F004333\\x2E4\\x3Ac\\x2E1799T\\x3EA|CA123643|13961|1019.0|evidence|82|https://civicdb.org/links/evidence/82|24586605_(PubMed)|Somatic|accepted,T|missense_variant|BRAF|673|transcript|ENST00000288602.6|ENST00000288602.6:c.1799T>A||V600E|12|VAL600GLU&RS113488022|ENST00000288602\\x2E6\\x3Ac\\x2E1799T\\x3EA&NC\\x5F000007\\x2E13\\x3Ag\\x2E140453136A\\x3ET&NP\\x5F004324\\x2E2\\x3Ap\\x2EVal600Glu&NM\\x5F004333\\x2E4\\x3Ac\\x2E1799T\\x3EA|CA123643|13961|1019.0|evidence|3759|https://civicdb.org/links/evidence/3759|19671763_(PubMed)|Somatic|submitted,T|missense_variant|BRAF|673|transcript|ENST00000288602.6|ENST00000288602.6:c.1799T>A||V600E|12|VAL600GLU&RS113488022|ENST00000288602\\x2E6\\x3Ac\\x2E1799T\\x3EA&NC\\x5F000007\\x2E13\\x3Ag\\x2E140453136A\\x3ET&NP\\x5F004324\\x2E2\\x3Ap\\x2EVal600Glu&NM\\x5F004333\\x2E4\\x3Ac\\x2E1799T\\x3EA|CA123643|13961|1019.0|evidence|126|https://civicdb.org/links/evidence/126|20619739_(PubMed)|Somatic|accepted,T|missense_variant|BRAF|673|transcript|ENST00000288602.6|ENST00000288602.6:c.1799T>A||V600E|12|VAL600GLU&RS113488022|ENST00000288602\\x2E6\\x3Ac\\x2E1799T\\x3EA&NC\\x5F000007\\x2E13\\x3Ag\\x2E140453136A\\x3ET&NP\\x5F004324\\x2E2\\x3Ap\\x2EVal600Glu&NM\\x5F004333\\x2E4\\x3Ac\\x2E1799T\\x3EA|CA123643|13961|1019.0|evidence|105|https://civicdb.org/links/evidence/105|21594703_(PubMed)|Somatic|accepted,T|missense_variant|BRAF|673|transcript|ENST00000288602.6|ENST00000288602.6:c.1799T>A||V600E|12|VAL600GLU&RS113488022|ENST00000288602\\x2E6\\x3Ac\\x2E1799T\\x3EA&NC\\x5F000007\\x2E13\\x3Ag\\x2E140453136A\\x3ET&NP\\x5F004324\\x2E2\\x3Ap\\x2EVal600Glu&NM\\x5F004333\\x2E4\\x3Ac\\x2E1799T\\x3EA|CA123643|13961|1019.0|evidence|107|https://civicdb.org/links/evidence/107|21594703_(PubMed)|Somatic|accepted,T|missense_variant|BRAF|673|transcript|ENST00000288602.6|ENST00000288602.6:c.1799T>A||V600E|12|VAL600GLU&RS113488022|ENST00000288602\\x2E6\\x3Ac\\x2E1799T\\x3EA&NC\\x5F000007\\x2E13\\x3Ag\\x2E140453136A\\x3ET&NP\\x5F004324\\x2E2\\x3Ap\\x2EVal600Glu&NM\\x5F004333\\x2E4\\x3Ac\\x2E1799T\\x3EA|CA123643|13961|1019.0|evidence|79|https://civicdb.org/links/evidence/79|21594703_(PubMed)|Somatic|accepted,T|missense_variant|BRAF|673|transcript|ENST00000288602.6|ENST00000288602.6:c.1799T>A||V600E|12|VAL600GLU&RS113488022|ENST00000288602\\x2E6\\x3Ac\\x2E1799T\\x3EA&NC\\x5F000007\\x2E13\\x3Ag\\x2E140453136A\\x3ET&NP\\x5F004324\\x2E2\\x3Ap\\x2EVal600Glu&NM\\x5F004333\\x2E4\\x3Ac\\x2E1799T\\x3EA|CA123643|13961|1019.0|evidence|80|https://civicdb.org/links/evidence/80|24570209_(PubMed)|Somatic|accepted,T|missense_variant|BRAF|673|transcript|ENST00000288602.6|ENST00000288602.6:c.1799T>A||V600E|12|VAL600GLU&RS113488022|ENST00000288602\\x2E6\\x3Ac\\x2E1799T\\x3EA&NC\\x5F000007\\x2E13\\x3Ag\\x2E140453136A\\x3ET&NP\\x5F004324\\x2E2\\x3Ap\\x2EVal600Glu&NM\\x5F004333\\x2E4\\x3Ac\\x2E1799T\\x3EA|CA123643|13961|1019.0|evidence|86|https://civicdb.org/links/evidence/86|24576830_(PubMed)|Somatic|accepted,T|missense_variant|BRAF|673|transcript|ENST00000288602.6|ENST00000288602.6:c.1799T>A||V600E|12|VAL600GLU&RS113488022|ENST00000288602\\x2E6\\x3Ac\\x2E1799T\\x3EA&NC\\x5F000007\\x2E13\\x3Ag\\x2E140453136A\\x3ET&NP\\x5F004324\\x2E2\\x3Ap\\x2EVal600Glu&NM\\x5F004333\\x2E4\\x3Ac\\x2E1799T\\x3EA|CA123643|13961|1019.0|evidence|90|https://civicdb.org/links/evidence/90|24576830_(PubMed)|Somatic|accepted,T|missense_variant|BRAF|673|transcript|ENST00000288602.6|ENST00000288602.6:c.1799T>A||V600E|12|VAL600GLU&RS113488022|ENST00000288602\\x2E6\\x3Ac\\x2E1799T\\x3EA&NC\\x5F000007\\x2E13\\x3Ag\\x2E140453136A\\x3ET&NP\\x5F004324\\x2E2\\x3Ap\\x2EVal600Glu&NM\\x5F004333\\x2E4\\x3Ac\\x2E1799T\\x3EA|CA123643|13961|1019.0|evidence|1409|https://civicdb.org/links/evidence/1409|21639808_(PubMed)|Somatic|accepted,T|missense_variant|BRAF|673|transcript|ENST00000288602.6|ENST00000288602.6:c.1799T>A||V600E|12|VAL600GLU&RS113488022|ENST00000288602\\x2E6\\x3Ac\\x2E1799T\\x3EA&NC\\x5F000007\\x2E13\\x3Ag\\x2E140453136A\\x3ET&NP\\x5F004324\\x2E2\\x3Ap\\x2EVal600Glu&NM\\x5F004333\\x2E4\\x3Ac\\x2E1799T\\x3EA|CA123643|13961|1019.0|evidence|2894|https://civicdb.org/links/evidence/2894|19001320_(PubMed)|Somatic|submitted,T|missense_variant|BRAF|673|transcript|ENST00000288602.6|ENST00000288602.6:c.1799T>A||V600E|12|VAL600GLU&RS113488022|ENST00000288602\\x2E6\\x3Ac\\x2E1799T\\x3EA&NC\\x5F000007\\x2E13\\x3Ag\\x2E140453136A\\x3ET&NP\\x5F004324\\x2E2\\x3Ap\\x2EVal600Glu&NM\\x5F004333\\x2E4\\x3Ac\\x2E1799T\\x3EA|CA123643|13961|1019.0|evidence|89|https://civicdb.org/links/evidence/89|19001320_(PubMed)|Somatic|accepted,T|missense_variant|BRAF|673|transcript|ENST00000288602.6|ENST00000288602.6:c.1799T>A||V600E|12|VAL600GLU&RS113488022|ENST00000288602\\x2E6\\x3Ac\\x2E1799T\\x3EA&NC\\x5F000007\\x2E13\\x3Ag\\x2E140453136A\\x3ET&NP\\x5F004324\\x2E2\\x3Ap\\x2EVal600Glu&NM\\x5F004333\\x2E4\\x3Ac\\x2E1799T\\x3EA|CA123643|13961|1019.0|evidence|2115|https://civicdb.org/links/evidence/2115|19001320_(PubMed)|Somatic|accepted,T|missense_variant|BRAF|673|transcript|ENST00000288602.6|ENST00000288602.6:c.1799T>A||V600E|12|VAL600GLU&RS113488022|ENST00000288602\\x2E6\\x3Ac\\x2E1799T\\x3EA&NC\\x5F000007\\x2E13\\x3Ag\\x2E140453136A\\x3ET&NP\\x5F004324\\x2E2\\x3Ap\\x2EVal600Glu&NM\\x5F004333\\x2E4\\x3Ac\\x2E1799T\\x3EA|CA123643|13961|1019.0|evidence|91|https://civicdb.org/links/evidence/91|23524406_(PubMed)|Somatic|accepted,T|missense_variant|BRAF|673|transcript|ENST00000288602.6|ENST00000288602.6:c.1799T>A||V600E|12|VAL600GLU&RS113488022|ENST00000288602\\x2E6\\x3Ac\\x2E1799T\\x3EA&NC\\x5F000007\\x2E13\\x3Ag\\x2E140453136A\\x3ET&NP\\x5F004324\\x2E2\\x3Ap\\x2EVal600Glu&NM\\x5F004333\\x2E4\\x3Ac\\x2E1799T\\x3EA|CA123643|13961|1019.0|evidence|6940|https://civicdb.org/links/evidence/6940|23020132_(PubMed)|Somatic|accepted,T|missense_variant|BRAF|673|transcript|ENST00000288602.6|ENST00000288602.6:c.1799T>A||V600E|12|VAL600GLU&RS113488022|ENST00000288602\\x2E6\\x3Ac\\x2E1799T\\x3EA&NC\\x5F000007\\x2E13\\x3Ag\\x2E140453136A\\x3ET&NP\\x5F004324\\x2E2\\x3Ap\\x2EVal600Glu&NM\\x5F004333\\x2E4\\x3Ac\\x2E1799T\\x3EA|CA123643|13961|1019.0|evidence|95|https://civicdb.org/links/evidence/95|24583796_(PubMed)|Somatic|accepted,T|missense_variant|BRAF|673|transcript|ENST00000288602.6|ENST00000288602.6:c.1799T>A||V600E|12|VAL600GLU&RS113488022|ENST00000288602\\x2E6\\x3Ac\\x2E1799T\\x3EA&NC\\x5F000007\\x2E13\\x3Ag\\x2E140453136A\\x3ET&NP\\x5F004324\\x2E2\\x3Ap\\x2EVal600Glu&NM\\x5F004333\\x2E4\\x3Ac\\x2E1799T\\x3EA|CA123643|13961|1019.0|evidence|96|https://civicdb.org/links/evidence/96|23845441_(PubMed)|Somatic|accepted,T|missense_variant|BRAF|673|transcript|ENST00000288602.6|ENST00000288602.6:c.1799T>A||V600E|12|VAL600GLU&RS113488022|ENST00000288602\\x2E6\\x3Ac\\x2E1799T\\x3EA&NC\\x5F000007\\x2E13\\x3Ag\\x2E140453136A\\x3ET&NP\\x5F004324\\x2E2\\x3Ap\\x2EVal600Glu&NM\\x5F004333\\x2E4\\x3Ac\\x2E1799T\\x3EA|CA123643|13961|1019.0|evidence|97|https://civicdb.org/links/evidence/97|23812671_(PubMed)|Somatic|accepted,T|missense_variant|BRAF|673|transcript|ENST00000288602.6|ENST00000288602.6:c.1799T>A||V600E|12|VAL600GLU&RS113488022|ENST00000288602\\x2E6\\x3Ac\\x2E1799T\\x3EA&NC\\x5F000007\\x2E13\\x3Ag\\x2E140453136A\\x3ET&NP\\x5F004324\\x2E2\\x3Ap\\x2EVal600Glu&NM\\x5F004333\\x2E4\\x3Ac\\x2E1799T\\x3EA|CA123643|13961|1019.0|evidence|99|https://civicdb.org/links/evidence/99|22180495_(PubMed)|Somatic|accepted,T|missense_variant|BRAF|673|transcript|ENST00000288602.6|ENST00000288602.6:c.1799T>A||V600E|12|VAL600GLU&RS113488022|ENST00000288602\\x2E6\\x3Ac\\x2E1799T\\x3EA&NC\\x5F000007\\x2E13\\x3Ag\\x2E140453136A\\x3ET&NP\\x5F004324\\x2E2\\x3Ap\\x2EVal600Glu&NM\\x5F004333\\x2E4\\x3Ac\\x2E1799T\\x3EA|CA123643|13961|1019.0|evidence|98|https://civicdb.org/links/evidence/98|22180495_(PubMed)|Somatic|accepted,T|missense_variant|BRAF|673|transcript|ENST00000288602.6|ENST00000288602.6:c.1799T>A||V600E|12|VAL600GLU&RS113488022|ENST00000288602\\x2E6\\x3Ac\\x2E1799T\\x3EA&NC\\x5F000007\\x2E13\\x3Ag\\x2E140453136A\\x3ET&NP\\x5F004324\\x2E2\\x3Ap\\x2EVal600Glu&NM\\x5F004333\\x2E4\\x3Ac\\x2E1799T\\x3EA|CA123643|13961|1019.0|evidence|102|https://civicdb.org/links/evidence/102|24354346_(PubMed)|Somatic|accepted,T|missense_variant|BRAF|673|transcript|ENST00000288602.6|ENST00000288602.6:c.1799T>A||V600E|12|VAL600GLU&RS113488022|ENST00000288602\\x2E6\\x3Ac\\x2E1799T\\x3EA&NC\\x5F000007\\x2E13\\x3Ag\\x2E140453136A\\x3ET&NP\\x5F004324\\x2E2\\x3Ap\\x2EVal600Glu&NM\\x5F004333\\x2E4\\x3Ac\\x2E1799T\\x3EA|CA123643|13961|1019.0|evidence|103|https://civicdb.org/links/evidence/103|24594804_(PubMed)|Somatic|accepted,T|missense_variant|BRAF|673|transcript|ENST00000288602.6|ENST00000288602.6:c.1799T>A||V600E|12|VAL600GLU&RS113488022|ENST00000288602\\x2E6\\x3Ac\\x2E1799T\\x3EA&NC\\x5F000007\\x2E13\\x3Ag\\x2E140453136A\\x3ET&NP\\x5F004324\\x2E2\\x3Ap\\x2EVal600Glu&NM\\x5F004333\\x2E4\\x3Ac\\x2E1799T\\x3EA|CA123643|13961|1019.0|evidence|104|https://civicdb.org/links/evidence/104|24388723_(PubMed)|Somatic|accepted,T|missense_variant|BRAF|673|transcript|ENST00000288602.6|ENST00000288602.6:c.1799T>A||V600E|12|VAL600GLU&RS113488022|ENST00000288602\\x2E6\\x3Ac\\x2E1799T\\x3EA&NC\\x5F000007\\x2E13\\x3Ag\\x2E140453136A\\x3ET&NP\\x5F004324\\x2E2\\x3Ap\\x2EVal600Glu&NM\\x5F004333\\x2E4\\x3Ac\\x2E1799T\\x3EA|CA123643|13961|1019.0|evidence|106|https://civicdb.org/links/evidence/106|24396464_(PubMed)|Somatic|accepted,T|missense_variant|BRAF|673|transcript|ENST00000288602.6|ENST00000288602.6:c.1799T>A||V600E|12|VAL600GLU&RS113488022|ENST00000288602\\x2E6\\x3Ac\\x2E1799T\\x3EA&NC\\x5F000007\\x2E13\\x3Ag\\x2E140453136A\\x3ET&NP\\x5F004324\\x2E2\\x3Ap\\x2EVal600Glu&NM\\x5F004333\\x2E4\\x3Ac\\x2E1799T\\x3EA|CA123643|13961|1019.0|evidence|3746|https://civicdb.org/links/evidence/3746|21107323_(PubMed)|Somatic|submitted,T|missense_variant|BRAF|673|transcript|ENST00000288602.6|ENST00000288602.6:c.1799T>A||V600E|12|VAL600GLU&RS113488022|ENST00000288602\\x2E6\\x3Ac\\x2E1799T\\x3EA&NC\\x5F000007\\x2E13\\x3Ag\\x2E140453136A\\x3ET&NP\\x5F004324\\x2E2\\x3Ap\\x2EVal600Glu&NM\\x5F004333\\x2E4\\x3Ac\\x2E1799T\\x3EA|CA123643|13961|1019.0|evidence|2132|https://civicdb.org/links/evidence/2132|21107323_(PubMed)|Somatic|submitted,T|missense_variant|BRAF|673|transcript|ENST00000288602.6|ENST00000288602.6:c.1799T>A||V600E|12|VAL600GLU&RS113488022|ENST00000288602\\x2E6\\x3Ac\\x2E1799T\\x3EA&NC\\x5F000007\\x2E13\\x3Ag\\x2E140453136A\\x3ET&NP\\x5F004324\\x2E2\\x3Ap\\x2EVal600Glu&NM\\x5F004333\\x2E4\\x3Ac\\x2E1799T\\x3EA|CA123643|13961|1019.0|evidence|3787|https://civicdb.org/links/evidence/3787|26490654_(PubMed)|Somatic|accepted,T|missense_variant|BRAF|673|transcript|ENST00000288602.6|ENST00000288602.6:c.1799T>A||V600E|12|VAL600GLU&RS113488022|ENST00000288602\\x2E6\\x3Ac\\x2E1799T\\x3EA&NC\\x5F000007\\x2E13\\x3Ag\\x2E140453136A\\x3ET&NP\\x5F004324\\x2E2\\x3Ap\\x2EVal600Glu&NM\\x5F004333\\x2E4\\x3Ac\\x2E1799T\\x3EA|CA123643|13961|1019.0|evidence|3790|https://civicdb.org/links/evidence/3790|27520988_(PubMed)|Somatic|submitted,T|missense_variant|BRAF|673|transcript|ENST00000288602.6|ENST00000288602.6:c.1799T>A||V600E|12|VAL600GLU&RS113488022|ENST00000288602\\x2E6\\x3Ac\\x2E1799T\\x3EA&NC\\x5F000007\\x2E13\\x3Ag\\x2E140453136A\\x3ET&NP\\x5F004324\\x2E2\\x3Ap\\x2EVal600Glu&NM\\x5F004333\\x2E4\\x3Ac\\x2E1799T\\x3EA|CA123643|13961|1019.0|evidence|3743|https://civicdb.org/links/evidence/3743|23406047_(PubMed)|Somatic|submitted,T|missense_variant|BRAF|673|transcript|ENST00000288602.6|ENST00000288602.6:c.1799T>A||V600E|12|VAL600GLU&RS113488022|ENST00000288602\\x2E6\\x3Ac\\x2E1799T\\x3EA&NC\\x5F000007\\x2E13\\x3Ag\\x2E140453136A\\x3ET&NP\\x5F004324\\x2E2\\x3Ap\\x2EVal600Glu&NM\\x5F004333\\x2E4\\x3Ac\\x2E1799T\\x3EA|CA123643|13961|1019.0|evidence|3788|https://civicdb.org/links/evidence/3788|24335681_(PubMed)|Somatic|submitted,T|missense_variant|BRAF|673|transcript|ENST00000288602.6|ENST00000288602.6:c.1799T>A||V600E|12|VAL600GLU&RS113488022|ENST00000288602\\x2E6\\x3Ac\\x2E1799T\\x3EA&NC\\x5F000007\\x2E13\\x3Ag\\x2E140453136A\\x3ET&NP\\x5F004324\\x2E2\\x3Ap\\x2EVal600Glu&NM\\x5F004333\\x2E4\\x3Ac\\x2E1799T\\x3EA|CA123643|13961|1019.0|evidence|3789|https://civicdb.org/links/evidence/3789|25209580_(PubMed)|Somatic|submitted,T|missense_variant|BRAF|673|transcript|ENST00000288602.6|ENST00000288602.6:c.1799T>A||V600E|12|VAL600GLU&RS113488022|ENST00000288602\\x2E6\\x3Ac\\x2E1799T\\x3EA&NC\\x5F000007\\x2E13\\x3Ag\\x2E140453136A\\x3ET&NP\\x5F004324\\x2E2\\x3Ap\\x2EVal600Glu&NM\\x5F004333\\x2E4\\x3Ac\\x2E1799T\\x3EA|CA123643|13961|1019.0|evidence|1698|https://civicdb.org/links/evidence/1698|24997557_(PubMed)|Somatic|accepted,T|missense_variant|BRAF|673|transcript|ENST00000288602.6|ENST00000288602.6:c.1799T>A||V600E|12|VAL600GLU&RS113488022|ENST00000288602\\x2E6\\x3Ac\\x2E1799T\\x3EA&NC\\x5F000007\\x2E13\\x3Ag\\x2E140453136A\\x3ET&NP\\x5F004324\\x2E2\\x3Ap\\x2EVal600Glu&NM\\x5F004333\\x2E4\\x3Ac\\x2E1799T\\x3EA|CA123643|13961|1019.0|evidence|1699|https://civicdb.org/links/evidence/1699|24997557_(PubMed)|Somatic|accepted,T|missense_variant|BRAF|673|transcript|ENST00000288602.6|ENST00000288602.6:c.1799T>A||V600E|12|VAL600GLU&RS113488022|ENST00000288602\\x2E6\\x3Ac\\x2E1799T\\x3EA&NC\\x5F000007\\x2E13\\x3Ag\\x2E140453136A\\x3ET&NP\\x5F004324\\x2E2\\x3Ap\\x2EVal600Glu&NM\\x5F004333\\x2E4\\x3Ac\\x2E1799T\\x3EA|CA123643|13961|1019.0|evidence|2118|https://civicdb.org/links/evidence/2118|19603024_(PubMed)|Somatic|accepted,T|missense_variant|BRAF|673|transcript|ENST00000288602.6|ENST00000288602.6:c.1799T>A||V600E|12|VAL600GLU&RS113488022|ENST00000288602\\x2E6\\x3Ac\\x2E1799T\\x3EA&NC\\x5F000007\\x2E13\\x3Ag\\x2E140453136A\\x3ET&NP\\x5F004324\\x2E2\\x3Ap\\x2EVal600Glu&NM\\x5F004333\\x2E4\\x3Ac\\x2E1799T\\x3EA|CA123643|13961|1019.0|evidence|2117|https://civicdb.org/links/evidence/2117|19603024_(PubMed)|Somatic|accepted,T|missense_variant|BRAF|673|transcript|ENST00000288602.6|ENST00000288602.6:c.1799T>A||V600E|12|VAL600GLU&RS113488022|ENST00000288602\\x2E6\\x3Ac\\x2E1799T\\x3EA&NC\\x5F000007\\x2E13\\x3Ag\\x2E140453136A\\x3ET&NP\\x5F004324\\x2E2\\x3Ap\\x2EVal600Glu&NM\\x5F004333\\x2E4\\x3Ac\\x2E1799T\\x3EA|CA123643|13961|1019.0|evidence|1413|https://civicdb.org/links/evidence/1413|25589621_(PubMed)|Somatic|accepted,T|missense_variant|BRAF|673|transcript|ENST00000288602.6|ENST00000288602.6:c.1799T>A||V600E|12|VAL600GLU&RS113488022|ENST00000288602\\x2E6\\x3Ac\\x2E1799T\\x3EA&NC\\x5F000007\\x2E13\\x3Ag\\x2E140453136A\\x3ET&NP\\x5F004324\\x2E2\\x3Ap\\x2EVal600Glu&NM\\x5F004333\\x2E4\\x3Ac\\x2E1799T\\x3EA|CA123643|13961|1019.0|evidence|463|https://civicdb.org/links/evidence/463|23612012_(PubMed)|Somatic|accepted,T|missense_variant|BRAF|673|transcript|ENST00000288602.6|ENST00000288602.6:c.1799T>A||V600E|12|VAL600GLU&RS113488022|ENST00000288602\\x2E6\\x3Ac\\x2E1799T\\x3EA&NC\\x5F000007\\x2E13\\x3Ag\\x2E140453136A\\x3ET&NP\\x5F004324\\x2E2\\x3Ap\\x2EVal600Glu&NM\\x5F004333\\x2E4\\x3Ac\\x2E1799T\\x3EA|CA123643|13961|1019.0|evidence|7454|https://civicdb.org/links/evidence/7454|172039_(ASCO)|Somatic|submitted,T|missense_variant|BRAF|673|transcript|ENST00000288602.6|ENST00000288602.6:c.1799T>A||V600E|12|VAL600GLU&RS113488022|ENST00000288602\\x2E6\\x3Ac\\x2E1799T\\x3EA&NC\\x5F000007\\x2E13\\x3Ag\\x2E140453136A\\x3ET&NP\\x5F004324\\x2E2\\x3Ap\\x2EVal600Glu&NM\\x5F004333\\x2E4\\x3Ac\\x2E1799T\\x3EA|CA123643|13961|1019.0|evidence|7453|https://civicdb.org/links/evidence/7453|172039_(ASCO)|Somatic|submitted,T|missense_variant|BRAF|673|transcript|ENST00000288602.6|ENST00000288602.6:c.1799T>A||V600E|12|VAL600GLU&RS113488022|ENST00000288602\\x2E6\\x3Ac\\x2E1799T\\x3EA&NC\\x5F000007\\x2E13\\x3Ag\\x2E140453136A\\x3ET&NP\\x5F004324\\x2E2\\x3Ap\\x2EVal600Glu&NM\\x5F004333\\x2E4\\x3Ac\\x2E1799T\\x3EA|CA123643|13961|1019.0|evidence|3758|https://civicdb.org/links/evidence/3758|25399551_(PubMed)|Somatic|accepted,T|missense_variant|BRAF|673|transcript|ENST00000288602.6|ENST00000288602.6:c.1799T>A||V600E|12|VAL600GLU&RS113488022|ENST00000288602\\x2E6\\x3Ac\\x2E1799T\\x3EA&NC\\x5F000007\\x2E13\\x3Ag\\x2E140453136A\\x3ET&NP\\x5F004324\\x2E2\\x3Ap\\x2EVal600Glu&NM\\x5F004333\\x2E4\\x3Ac\\x2E1799T\\x3EA|CA123643|13961|1019.0|evidence|2143|https://civicdb.org/links/evidence/2143|19010912_(PubMed)|Somatic|submitted,T|missense_variant|BRAF|673|transcript|ENST00000288602.6|ENST00000288602.6:c.1799T>A||V600E|12|VAL600GLU&RS113488022|ENST00000288602\\x2E6\\x3Ac\\x2E1799T\\x3EA&NC\\x5F000007\\x2E13\\x3Ag\\x2E140453136A\\x3ET&NP\\x5F004324\\x2E2\\x3Ap\\x2EVal600Glu&NM\\x5F004333\\x2E4\\x3Ac\\x2E1799T\\x3EA|CA123643|13961|1019.0|evidence|1408|https://civicdb.org/links/evidence/1408|22281684_(PubMed)|Somatic|accepted,T|missense_variant|BRAF|673|transcript|ENST00000288602.6|ENST00000288602.6:c.1799T>A||V600E|12|VAL600GLU&RS113488022|ENST00000288602\\x2E6\\x3Ac\\x2E1799T\\x3EA&NC\\x5F000007\\x2E13\\x3Ag\\x2E140453136A\\x3ET&NP\\x5F004324\\x2E2\\x3Ap\\x2EVal600Glu&NM\\x5F004333\\x2E4\\x3Ac\\x2E1799T\\x3EA|CA123643|13961|1019.0|evidence|1406|https://civicdb.org/links/evidence/1406|22608338_(PubMed)|Somatic|accepted,T|missense_variant|BRAF|673|transcript|ENST00000288602.6|ENST00000288602.6:c.1799T>A||V600E|12|VAL600GLU&RS113488022|ENST00000288602\\x2E6\\x3Ac\\x2E1799T\\x3EA&NC\\x5F000007\\x2E13\\x3Ag\\x2E140453136A\\x3ET&NP\\x5F004324\\x2E2\\x3Ap\\x2EVal600Glu&NM\\x5F004333\\x2E4\\x3Ac\\x2E1799T\\x3EA|CA123643|13961|1019.0|evidence|3762|https://civicdb.org/links/evidence/3762|22038996_(PubMed)|Somatic|submitted,T|missense_variant|BRAF|673|transcript|ENST00000288602.6|ENST00000288602.6:c.1799T>A||V600E|12|VAL600GLU&RS113488022|ENST00000288602\\x2E6\\x3Ac\\x2E1799T\\x3EA&NC\\x5F000007\\x2E13\\x3Ag\\x2E140453136A\\x3ET&NP\\x5F004324\\x2E2\\x3Ap\\x2EVal600Glu&NM\\x5F004333\\x2E4\\x3Ac\\x2E1799T\\x3EA|CA123643|13961|1019.0|evidence|3753|https://civicdb.org/links/evidence/3753|20551065_(PubMed)|Somatic|submitted,T|missense_variant|BRAF|673|transcript|ENST00000288602.6|ENST00000288602.6:c.1799T>A||V600E|12|VAL600GLU&RS113488022|ENST00000288602\\x2E6\\x3Ac\\x2E1799T\\x3EA&NC\\x5F000007\\x2E13\\x3Ag\\x2E140453136A\\x3ET&NP\\x5F004324\\x2E2\\x3Ap\\x2EVal600Glu&NM\\x5F004333\\x2E4\\x3Ac\\x2E1799T\\x3EA|CA123643|13961|1019.0|evidence|1410|https://civicdb.org/links/evidence/1410|22356324_(PubMed)|Somatic|accepted,T|missense_variant|BRAF|673|transcript|ENST00000288602.6|ENST00000288602.6:c.1799T>A||V600E|12|VAL600GLU&RS113488022|ENST00000288602\\x2E6\\x3Ac\\x2E1799T\\x3EA&NC\\x5F000007\\x2E13\\x3Ag\\x2E140453136A\\x3ET&NP\\x5F004324\\x2E2\\x3Ap\\x2EVal600Glu&NM\\x5F004333\\x2E4\\x3Ac\\x2E1799T\\x3EA|CA123643|13961|1019.0|evidence|2119|https://civicdb.org/links/evidence/2119|19603018_(PubMed)|Somatic|submitted,T|missense_variant|BRAF|673|transcript|ENST00000288602.6|ENST00000288602.6:c.1799T>A||V600E|12|VAL600GLU&RS113488022|ENST00000288602\\x2E6\\x3Ac\\x2E1799T\\x3EA&NC\\x5F000007\\x2E13\\x3Ag\\x2E140453136A\\x3ET&NP\\x5F004324\\x2E2\\x3Ap\\x2EVal600Glu&NM\\x5F004333\\x2E4\\x3Ac\\x2E1799T\\x3EA|CA123643|13961|1019.0|evidence|3738|https://civicdb.org/links/evidence/3738|19603018_(PubMed)|Somatic|submitted,T|missense_variant|BRAF|673|transcript|ENST00000288602.6|ENST00000288602.6:c.1799T>A||V600E|12|VAL600GLU&RS113488022|ENST00000288602\\x2E6\\x3Ac\\x2E1799T\\x3EA&NC\\x5F000007\\x2E13\\x3Ag\\x2E140453136A\\x3ET&NP\\x5F004324\\x2E2\\x3Ap\\x2EVal600Glu&NM\\x5F004333\\x2E4\\x3Ac\\x2E1799T\\x3EA|CA123643|13961|1019.0|evidence|656|https://civicdb.org/links/evidence/656|25024077_(PubMed)|Somatic|accepted,T|missense_variant|BRAF|673|transcript|ENST00000288602.6|ENST00000288602.6:c.1799T>A||V600E|12|VAL600GLU&RS113488022|ENST00000288602\\x2E6\\x3Ac\\x2E1799T\\x3EA&NC\\x5F000007\\x2E13\\x3Ag\\x2E140453136A\\x3ET&NP\\x5F004324\\x2E2\\x3Ap\\x2EVal600Glu&NM\\x5F004333\\x2E4\\x3Ac\\x2E1799T\\x3EA|CA123643|13961|1019.0|evidence|757|https://civicdb.org/links/evidence/757|25370471_(PubMed)|Somatic|accepted,T|missense_variant|BRAF|673|transcript|ENST00000288602.6|ENST00000288602.6:c.1799T>A||V600E|12|VAL600GLU&RS113488022|ENST00000288602\\x2E6\\x3Ac\\x2E1799T\\x3EA&NC\\x5F000007\\x2E13\\x3Ag\\x2E140453136A\\x3ET&NP\\x5F004324\\x2E2\\x3Ap\\x2EVal600Glu&NM\\x5F004333\\x2E4\\x3Ac\\x2E1799T\\x3EA|CA123643|13961|1019.0|evidence|816|https://civicdb.org/links/evidence/816|25989278_(PubMed)|Somatic|accepted,T|missense_variant|BRAF|673|transcript|ENST00000288602.6|ENST00000288602.6:c.1799T>A||V600E|12|VAL600GLU&RS113488022|ENST00000288602\\x2E6\\x3Ac\\x2E1799T\\x3EA&NC\\x5F000007\\x2E13\\x3Ag\\x2E140453136A\\x3ET&NP\\x5F004324\\x2E2\\x3Ap\\x2EVal600Glu&NM\\x5F004333\\x2E4\\x3Ac\\x2E1799T\\x3EA|CA123643|13961|1019.0|evidence|1428|https://civicdb.org/links/evidence/1428|23549875_(PubMed)|Somatic|accepted,T|missense_variant|BRAF|673|transcript|ENST00000288602.6|ENST00000288602.6:c.1799T>A||V600E|12|VAL600GLU&RS113488022|ENST00000288602\\x2E6\\x3Ac\\x2E1799T\\x3EA&NC\\x5F000007\\x2E13\\x3Ag\\x2E140453136A\\x3ET&NP\\x5F004324\\x2E2\\x3Ap\\x2EVal600Glu&NM\\x5F004333\\x2E4\\x3Ac\\x2E1799T\\x3EA|CA123643|13961|1019.0|evidence|1005|https://civicdb.org/links/evidence/1005|26678033_(PubMed)|Somatic|accepted,T|missense_variant|BRAF|673|transcript|ENST00000288602.6|ENST00000288602.6:c.1799T>A||V600E|12|VAL600GLU&RS113488022|ENST00000288602\\x2E6\\x3Ac\\x2E1799T\\x3EA&NC\\x5F000007\\x2E13\\x3Ag\\x2E140453136A\\x3ET&NP\\x5F004324\\x2E2\\x3Ap\\x2EVal600Glu&NM\\x5F004333\\x2E4\\x3Ac\\x2E1799T\\x3EA|CA123643|13961|1019.0|evidence|3775|https://civicdb.org/links/evidence/3775|23729178_(PubMed)|Somatic|submitted,T|missense_variant|BRAF|673|transcript|ENST00000288602.6|ENST00000288602.6:c.1799T>A||V600E|12|VAL600GLU&RS113488022|ENST00000288602\\x2E6\\x3Ac\\x2E1799T\\x3EA&NC\\x5F000007\\x2E13\\x3Ag\\x2E140453136A\\x3ET&NP\\x5F004324\\x2E2\\x3Ap\\x2EVal600Glu&NM\\x5F004333\\x2E4\\x3Ac\\x2E1799T\\x3EA|CA123643|13961|1019.0|evidence|3778|https://civicdb.org/links/evidence/3778|26579623_(PubMed)|Somatic|submitted,T|missense_variant|BRAF|673|transcript|ENST00000288602.6|ENST00000288602.6:c.1799T>A||V600E|12|VAL600GLU&RS113488022|ENST00000288602\\x2E6\\x3Ac\\x2E1799T\\x3EA&NC\\x5F000007\\x2E13\\x3Ag\\x2E140453136A\\x3ET&NP\\x5F004324\\x2E2\\x3Ap\\x2EVal600Glu&NM\\x5F004333\\x2E4\\x3Ac\\x2E1799T\\x3EA|CA123643|13961|1019.0|evidence|1127|https://civicdb.org/links/evidence/1127|21663470_(PubMed)|Somatic|accepted,T|missense_variant|BRAF|673|transcript|ENST00000288602.6|ENST00000288602.6:c.1799T>A||V600E|12|VAL600GLU&RS113488022|ENST00000288602\\x2E6\\x3Ac\\x2E1799T\\x3EA&NC\\x5F000007\\x2E13\\x3Ag\\x2E140453136A\\x3ET&NP\\x5F004324\\x2E2\\x3Ap\\x2EVal600Glu&NM\\x5F004333\\x2E4\\x3Ac\\x2E1799T\\x3EA|CA123643|13961|1019.0|evidence|1141|https://civicdb.org/links/evidence/1141|23934108_(PubMed)|Somatic|accepted,T|missense_variant|BRAF|673|transcript|ENST00000288602.6|ENST00000288602.6:c.1799T>A||V600E|12|VAL600GLU&RS113488022|ENST00000288602\\x2E6\\x3Ac\\x2E1799T\\x3EA&NC\\x5F000007\\x2E13\\x3Ag\\x2E140453136A\\x3ET&NP\\x5F004324\\x2E2\\x3Ap\\x2EVal600Glu&NM\\x5F004333\\x2E4\\x3Ac\\x2E1799T\\x3EA|CA123643|13961|1019.0|evidence|3747|https://civicdb.org/links/evidence/3747|20149136_(PubMed)|Somatic|submitted,T|missense_variant|BRAF|673|transcript|ENST00000288602.6|ENST00000288602.6:c.1799T>A||V600E|12|VAL600GLU&RS113488022|ENST00000288602\\x2E6\\x3Ac\\x2E1799T\\x3EA&NC\\x5F000007\\x2E13\\x3Ag\\x2E140453136A\\x3ET&NP\\x5F004324\\x2E2\\x3Ap\\x2EVal600Glu&NM\\x5F004333\\x2E4\\x3Ac\\x2E1799T\\x3EA|CA123643|13961|1019.0|evidence|3748|https://civicdb.org/links/evidence/3748|16424035_(PubMed)|Somatic|submitted,T|missense_variant|BRAF|673|transcript|ENST00000288602.6|ENST00000288602.6:c.1799T>A||V600E|12|VAL600GLU&RS113488022|ENST00000288602\\x2E6\\x3Ac\\x2E1799T\\x3EA&NC\\x5F000007\\x2E13\\x3Ag\\x2E140453136A\\x3ET&NP\\x5F004324\\x2E2\\x3Ap\\x2EVal600Glu&NM\\x5F004333\\x2E4\\x3Ac\\x2E1799T\\x3EA|CA123643|13961|1019.0|evidence|2134|https://civicdb.org/links/evidence/2134|16424035_(PubMed)|Somatic|submitted,T|missense_variant|BRAF|673|transcript|ENST00000288602.6|ENST00000288602.6:c.1799T>A||V600E|12|VAL600GLU&RS113488022|ENST00000288602\\x2E6\\x3Ac\\x2E1799T\\x3EA&NC\\x5F000007\\x2E13\\x3Ag\\x2E140453136A\\x3ET&NP\\x5F004324\\x2E2\\x3Ap\\x2EVal600Glu&NM\\x5F004333\\x2E4\\x3Ac\\x2E1799T\\x3EA|CA123643|13961|1019.0|evidence|2131|https://civicdb.org/links/evidence/2131|16424035_(PubMed)|Somatic|submitted,T|missense_variant|BRAF|673|transcript|ENST00000288602.6|ENST00000288602.6:c.1799T>A||V600E|12|VAL600GLU&RS113488022|ENST00000288602\\x2E6\\x3Ac\\x2E1799T\\x3EA&NC\\x5F000007\\x2E13\\x3Ag\\x2E140453136A\\x3ET&NP\\x5F004324\\x2E2\\x3Ap\\x2EVal600Glu&NM\\x5F004333\\x2E4\\x3Ac\\x2E1799T\\x3EA|CA123643|13961|1019.0|evidence|2130|https://civicdb.org/links/evidence/2130|16424035_(PubMed)|Somatic|submitted,T|missense_variant|BRAF|673|transcript|ENST00000288602.6|ENST00000288602.6:c.1799T>A||V600E|12|VAL600GLU&RS113488022|ENST00000288602\\x2E6\\x3Ac\\x2E1799T\\x3EA&NC\\x5F000007\\x2E13\\x3Ag\\x2E140453136A\\x3ET&NP\\x5F004324\\x2E2\\x3Ap\\x2EVal600Glu&NM\\x5F004333\\x2E4\\x3Ac\\x2E1799T\\x3EA|CA123643|13961|1019.0|evidence|2125|https://civicdb.org/links/evidence/2125|16424035_(PubMed)|Somatic|submitted,T|missense_variant|BRAF|673|transcript|ENST00000288602.6|ENST00000288602.6:c.1799T>A||V600E|12|VAL600GLU&RS113488022|ENST00000288602\\x2E6\\x3Ac\\x2E1799T\\x3EA&NC\\x5F000007\\x2E13\\x3Ag\\x2E140453136A\\x3ET&NP\\x5F004324\\x2E2\\x3Ap\\x2EVal600Glu&NM\\x5F004333\\x2E4\\x3Ac\\x2E1799T\\x3EA|CA123643|13961|1019.0|evidence|2128|https://civicdb.org/links/evidence/2128|16424035_(PubMed)|Somatic|submitted,T|missense_variant|BRAF|673|transcript|ENST00000288602.6|ENST00000288602.6:c.1799T>A||V600E|12|VAL600GLU&RS113488022|ENST00000288602\\x2E6\\x3Ac\\x2E1799T\\x3EA&NC\\x5F000007\\x2E13\\x3Ag\\x2E140453136A\\x3ET&NP\\x5F004324\\x2E2\\x3Ap\\x2EVal600Glu&NM\\x5F004333\\x2E4\\x3Ac\\x2E1799T\\x3EA|CA123643|13961|1019.0|evidence|2123|https://civicdb.org/links/evidence/2123|16424035_(PubMed)|Somatic|submitted,T|missense_variant|BRAF|673|transcript|ENST00000288602.6|ENST00000288602.6:c.1799T>A||V600E|12|VAL600GLU&RS113488022|ENST00000288602\\x2E6\\x3Ac\\x2E1799T\\x3EA&NC\\x5F000007\\x2E13\\x3Ag\\x2E140453136A\\x3ET&NP\\x5F004324\\x2E2\\x3Ap\\x2EVal600Glu&NM\\x5F004333\\x2E4\\x3Ac\\x2E1799T\\x3EA|CA123643|13961|1019.0|evidence|1398|https://civicdb.org/links/evidence/1398|24508103_(PubMed)|Somatic|accepted,T|missense_variant|BRAF|673|transcript|ENST00000288602.6|ENST00000288602.6:c.1799T>A||V600E|12|VAL600GLU&RS113488022|ENST00000288602\\x2E6\\x3Ac\\x2E1799T\\x3EA&NC\\x5F000007\\x2E13\\x3Ag\\x2E140453136A\\x3ET&NP\\x5F004324\\x2E2\\x3Ap\\x2EVal600Glu&NM\\x5F004333\\x2E4\\x3Ac\\x2E1799T\\x3EA|CA123643|13961|1019.0|evidence|1405|https://civicdb.org/links/evidence/1405|26460303_(PubMed)|Somatic|accepted,T|missense_variant|BRAF|673|transcript|ENST00000288602.6|ENST00000288602.6:c.1799T>A||V600E|12|VAL600GLU&RS113488022|ENST00000288602\\x2E6\\x3Ac\\x2E1799T\\x3EA&NC\\x5F000007\\x2E13\\x3Ag\\x2E140453136A\\x3ET&NP\\x5F004324\\x2E2\\x3Ap\\x2EVal600Glu&NM\\x5F004333\\x2E4\\x3Ac\\x2E1799T\\x3EA|CA123643|13961|1019.0|evidence|1414|https://civicdb.org/links/evidence/1414|24987354_(PubMed)|Somatic|accepted,T|missense_variant|BRAF|673|transcript|ENST00000288602.6|ENST00000288602.6:c.1799T>A||V600E|12|VAL600GLU&RS113488022|ENST00000288602\\x2E6\\x3Ac\\x2E1799T\\x3EA&NC\\x5F000007\\x2E13\\x3Ag\\x2E140453136A\\x3ET&NP\\x5F004324\\x2E2\\x3Ap\\x2EVal600Glu&NM\\x5F004333\\x2E4\\x3Ac\\x2E1799T\\x3EA|CA123643|13961|1019.0|evidence|1421|https://civicdb.org/links/evidence/1421|25265494_(PubMed)|Somatic|accepted,T|missense_variant|BRAF|673|transcript|ENST00000288602.6|ENST00000288602.6:c.1799T>A||V600E|12|VAL600GLU&RS113488022|ENST00000288602\\x2E6\\x3Ac\\x2E1799T\\x3EA&NC\\x5F000007\\x2E13\\x3Ag\\x2E140453136A\\x3ET&NP\\x5F004324\\x2E2\\x3Ap\\x2EVal600Glu&NM\\x5F004333\\x2E4\\x3Ac\\x2E1799T\\x3EA|CA123643|13961|1019.0|evidence|1430|https://civicdb.org/links/evidence/1430|27048246_(PubMed)|Somatic|accepted,T|missense_variant|BRAF|673|transcript|ENST00000288602.6|ENST00000288602.6:c.1799T>A||V600E|12|VAL600GLU&RS113488022|ENST00000288602\\x2E6\\x3Ac\\x2E1799T\\x3EA&NC\\x5F000007\\x2E13\\x3Ag\\x2E140453136A\\x3ET&NP\\x5F004324\\x2E2\\x3Ap\\x2EVal600Glu&NM\\x5F004333\\x2E4\\x3Ac\\x2E1799T\\x3EA|CA123643|13961|1019.0|evidence|1552|https://civicdb.org/links/evidence/1552|27404270_(PubMed)|Somatic|accepted,T|missense_variant|BRAF|673|transcript|ENST00000288602.6|ENST00000288602.6:c.1799T>A||V600E|12|VAL600GLU&RS113488022|ENST00000288602\\x2E6\\x3Ac\\x2E1799T\\x3EA&NC\\x5F000007\\x2E13\\x3Ag\\x2E140453136A\\x3ET&NP\\x5F004324\\x2E2\\x3Ap\\x2EVal600Glu&NM\\x5F004333\\x2E4\\x3Ac\\x2E1799T\\x3EA|CA123643|13961|1019.0|evidence|6045|https://civicdb.org/links/evidence/6045|26287849_(PubMed)|Somatic|accepted,T|missense_variant|BRAF|673|transcript|ENST00000288602.6|ENST00000288602.6:c.1799T>A||V600E|12|VAL600GLU&RS113488022|ENST00000288602\\x2E6\\x3Ac\\x2E1799T\\x3EA&NC\\x5F000007\\x2E13\\x3Ag\\x2E140453136A\\x3ET&NP\\x5F004324\\x2E2\\x3Ap\\x2EVal600Glu&NM\\x5F004333\\x2E4\\x3Ac\\x2E1799T\\x3EA|CA123643|13961|1019.0|evidence|3742|https://civicdb.org/links/evidence/3742|26287849_(PubMed)|Somatic|submitted,T|missense_variant|BRAF|673|transcript|ENST00000288602.6|ENST00000288602.6:c.1799T>A||V600E|12|VAL600GLU&RS113488022|ENST00000288602\\x2E6\\x3Ac\\x2E1799T\\x3EA&NC\\x5F000007\\x2E13\\x3Ag\\x2E140453136A\\x3ET&NP\\x5F004324\\x2E2\\x3Ap\\x2EVal600Glu&NM\\x5F004333\\x2E4\\x3Ac\\x2E1799T\\x3EA|CA123643|13961|1019.0|evidence|1579|https://civicdb.org/links/evidence/1579|26352686_(PubMed)|Somatic|accepted,T|missense_variant|BRAF|673|transcript|ENST00000288602.6|ENST00000288602.6:c.1799T>A||V600E|12|VAL600GLU&RS113488022|ENST00000288602\\x2E6\\x3Ac\\x2E1799T\\x3EA&NC\\x5F000007\\x2E13\\x3Ag\\x2E140453136A\\x3ET&NP\\x5F004324\\x2E2\\x3Ap\\x2EVal600Glu&NM\\x5F004333\\x2E4\\x3Ac\\x2E1799T\\x3EA|CA123643|13961|1019.0|evidence|1589|https://civicdb.org/links/evidence/1589|27325282_(PubMed)|Somatic|accepted,T|missense_variant|BRAF|673|transcript|ENST00000288602.6|ENST00000288602.6:c.1799T>A||V600E|12|VAL600GLU&RS113488022|ENST00000288602\\x2E6\\x3Ac\\x2E1799T\\x3EA&NC\\x5F000007\\x2E13\\x3Ag\\x2E140453136A\\x3ET&NP\\x5F004324\\x2E2\\x3Ap\\x2EVal600Glu&NM\\x5F004333\\x2E4\\x3Ac\\x2E1799T\\x3EA|CA123643|13961|1019.0|evidence|2135|https://civicdb.org/links/evidence/2135|22663011_(PubMed)|Somatic|accepted,T|missense_variant|BRAF|673|transcript|ENST00000288602.6|ENST00000288602.6:c.1799T>A||V600E|12|VAL600GLU&RS113488022|ENST00000288602\\x2E6\\x3Ac\\x2E1799T\\x3EA&NC\\x5F000007\\x2E13\\x3Ag\\x2E140453136A\\x3ET&NP\\x5F004324\\x2E2\\x3Ap\\x2EVal600Glu&NM\\x5F004333\\x2E4\\x3Ac\\x2E1799T\\x3EA|CA123643|13961|1019.0|evidence|2121|https://civicdb.org/links/evidence/2121|19571295_(PubMed)|Somatic|accepted,T|missense_variant|BRAF|673|transcript|ENST00000288602.6|ENST00000288602.6:c.1799T>A||V600E|12|VAL600GLU&RS113488022|ENST00000288602\\x2E6\\x3Ac\\x2E1799T\\x3EA&NC\\x5F000007\\x2E13\\x3Ag\\x2E140453136A\\x3ET&NP\\x5F004324\\x2E2\\x3Ap\\x2EVal600Glu&NM\\x5F004333\\x2E4\\x3Ac\\x2E1799T\\x3EA|CA123643|13961|1019.0|evidence|1902|https://civicdb.org/links/evidence/1902|27729313_(PubMed)|Somatic|accepted,T|missense_variant|BRAF|673|transcript|ENST00000288602.6|ENST00000288602.6:c.1799T>A||V600E|12|VAL600GLU&RS113488022|ENST00000288602\\x2E6\\x3Ac\\x2E1799T\\x3EA&NC\\x5F000007\\x2E13\\x3Ag\\x2E140453136A\\x3ET&NP\\x5F004324\\x2E2\\x3Ap\\x2EVal600Glu&NM\\x5F004333\\x2E4\\x3Ac\\x2E1799T\\x3EA|CA123643|13961|1019.0|evidence|1940|https://civicdb.org/links/evidence/1940|27302369_(PubMed)|Somatic|accepted,T|missense_variant|BRAF|673|transcript|ENST00000288602.6|ENST00000288602.6:c.1799T>A||V600E|12|VAL600GLU&RS113488022|ENST00000288602\\x2E6\\x3Ac\\x2E1799T\\x3EA&NC\\x5F000007\\x2E13\\x3Ag\\x2E140453136A\\x3ET&NP\\x5F004324\\x2E2\\x3Ap\\x2EVal600Glu&NM\\x5F004333\\x2E4\\x3Ac\\x2E1799T\\x3EA|CA123643|13961|1019.0|evidence|2124|https://civicdb.org/links/evidence/2124|16273091_(PubMed)|Somatic|submitted,T|missense_variant|BRAF|673|transcript|ENST00000288602.6|ENST00000288602.6:c.1799T>A||V600E|12|VAL600GLU&RS113488022|ENST00000288602\\x2E6\\x3Ac\\x2E1799T\\x3EA&NC\\x5F000007\\x2E13\\x3Ag\\x2E140453136A\\x3ET&NP\\x5F004324\\x2E2\\x3Ap\\x2EVal600Glu&NM\\x5F004333\\x2E4\\x3Ac\\x2E1799T\\x3EA|CA123643|13961|1019.0|evidence|1749|https://civicdb.org/links/evidence/1749|20818844_(PubMed)|Somatic|accepted,T|missense_variant|BRAF|673|transcript|ENST00000288602.6|ENST00000288602.6:c.1799T>A||V600E|12|VAL600GLU&RS113488022|ENST00000288602\\x2E6\\x3Ac\\x2E1799T\\x3EA&NC\\x5F000007\\x2E13\\x3Ag\\x2E140453136A\\x3ET&NP\\x5F004324\\x2E2\\x3Ap\\x2EVal600Glu&NM\\x5F004333\\x2E4\\x3Ac\\x2E1799T\\x3EA|CA123643|13961|1019.0|evidence|2127|https://civicdb.org/links/evidence/2127|20818844_(PubMed)|Somatic|submitted,T|missense_variant|BRAF|673|transcript|ENST00000288602.6|ENST00000288602.6:c.1799T>A||V600E|12|VAL600GLU&RS113488022|ENST00000288602\\x2E6\\x3Ac\\x2E1799T\\x3EA&NC\\x5F000007\\x2E13\\x3Ag\\x2E140453136A\\x3ET&NP\\x5F004324\\x2E2\\x3Ap\\x2EVal600Glu&NM\\x5F004333\\x2E4\\x3Ac\\x2E1799T\\x3EA|CA123643|13961|1019.0|evidence|2122|https://civicdb.org/links/evidence/2122|15781657_(PubMed)|Somatic|submitted,T|missense_variant|BRAF|673|transcript|ENST00000288602.6|ENST00000288602.6:c.1799T>A||V600E|12|VAL600GLU&RS113488022|ENST00000288602\\x2E6\\x3Ac\\x2E1799T\\x3EA&NC\\x5F000007\\x2E13\\x3Ag\\x2E140453136A\\x3ET&NP\\x5F004324\\x2E2\\x3Ap\\x2EVal600Glu&NM\\x5F004333\\x2E4\\x3Ac\\x2E1799T\\x3EA|CA123643|13961|1019.0|evidence|2126|https://civicdb.org/links/evidence/2126|21343559_(PubMed)|Somatic|submitted,T|missense_variant|BRAF|673|transcript|ENST00000288602.6|ENST00000288602.6:c.1799T>A||V600E|12|VAL600GLU&RS113488022|ENST00000288602\\x2E6\\x3Ac\\x2E1799T\\x3EA&NC\\x5F000007\\x2E13\\x3Ag\\x2E140453136A\\x3ET&NP\\x5F004324\\x2E2\\x3Ap\\x2EVal600Glu&NM\\x5F004333\\x2E4\\x3Ac\\x2E1799T\\x3EA|CA123643|13961|1019.0|evidence|3745|https://civicdb.org/links/evidence/3745|21107320_(PubMed)|Somatic|submitted,T|missense_variant|BRAF|673|transcript|ENST00000288602.6|ENST00000288602.6:c.1799T>A||V600E|12|VAL600GLU&RS113488022|ENST00000288602\\x2E6\\x3Ac\\x2E1799T\\x3EA&NC\\x5F000007\\x2E13\\x3Ag\\x2E140453136A\\x3ET&NP\\x5F004324\\x2E2\\x3Ap\\x2EVal600Glu&NM\\x5F004333\\x2E4\\x3Ac\\x2E1799T\\x3EA|CA123643|13961|1019.0|evidence|2133|https://civicdb.org/links/evidence/2133|21107320_(PubMed)|Somatic|submitted,T|missense_variant|BRAF|673|transcript|ENST00000288602.6|ENST00000288602.6:c.1799T>A||V600E|12|VAL600GLU&RS113488022|ENST00000288602\\x2E6\\x3Ac\\x2E1799T\\x3EA&NC\\x5F000007\\x2E13\\x3Ag\\x2E140453136A\\x3ET&NP\\x5F004324\\x2E2\\x3Ap\\x2EVal600Glu&NM\\x5F004333\\x2E4\\x3Ac\\x2E1799T\\x3EA|CA123643|13961|1019.0|evidence|2141|https://civicdb.org/links/evidence/2141|18682506_(PubMed)|Somatic|rejected,T|missense_variant|BRAF|673|transcript|ENST00000288602.6|ENST00000288602.6:c.1799T>A||V600E|12|VAL600GLU&RS113488022|ENST00000288602\\x2E6\\x3Ac\\x2E1799T\\x3EA&NC\\x5F000007\\x2E13\\x3Ag\\x2E140453136A\\x3ET&NP\\x5F004324\\x2E2\\x3Ap\\x2EVal600Glu&NM\\x5F004333\\x2E4\\x3Ac\\x2E1799T\\x3EA|CA123643|13961|1019.0|evidence|2504|https://civicdb.org/links/evidence/2504|18682506_(PubMed)|Somatic|rejected,T|missense_variant|BRAF|673|transcript|ENST00000288602.6|ENST00000288602.6:c.1799T>A||V600E|12|VAL600GLU&RS113488022|ENST00000288602\\x2E6\\x3Ac\\x2E1799T\\x3EA&NC\\x5F000007\\x2E13\\x3Ag\\x2E140453136A\\x3ET&NP\\x5F004324\\x2E2\\x3Ap\\x2EVal600Glu&NM\\x5F004333\\x2E4\\x3Ac\\x2E1799T\\x3EA|CA123643|13961|1019.0|evidence|2137|https://civicdb.org/links/evidence/2137|18682506_(PubMed)|Somatic|accepted,T|missense_variant|BRAF|673|transcript|ENST00000288602.6|ENST00000288602.6:c.1799T>A||V600E|12|VAL600GLU&RS113488022|ENST00000288602\\x2E6\\x3Ac\\x2E1799T\\x3EA&NC\\x5F000007\\x2E13\\x3Ag\\x2E140453136A\\x3ET&NP\\x5F004324\\x2E2\\x3Ap\\x2EVal600Glu&NM\\x5F004333\\x2E4\\x3Ac\\x2E1799T\\x3EA|CA123643|13961|1019.0|evidence|2142|https://civicdb.org/links/evidence/2142|16533790_(PubMed)|Somatic|submitted,T|missense_variant|BRAF|673|transcript|ENST00000288602.6|ENST00000288602.6:c.1799T>A||V600E|12|VAL600GLU&RS113488022|ENST00000288602\\x2E6\\x3Ac\\x2E1799T\\x3EA&NC\\x5F000007\\x2E13\\x3Ag\\x2E140453136A\\x3ET&NP\\x5F004324\\x2E2\\x3Ap\\x2EVal600Glu&NM\\x5F004333\\x2E4\\x3Ac\\x2E1799T\\x3EA|CA123643|13961|1019.0|evidence|2129|https://civicdb.org/links/evidence/2129|18172275_(PubMed)|Somatic|submitted,T|missense_variant|BRAF|673|transcript|ENST00000288602.6|ENST00000288602.6:c.1799T>A||V600E|12|VAL600GLU&RS113488022|ENST00000288602\\x2E6\\x3Ac\\x2E1799T\\x3EA&NC\\x5F000007\\x2E13\\x3Ag\\x2E140453136A\\x3ET&NP\\x5F004324\\x2E2\\x3Ap\\x2EVal600Glu&NM\\x5F004333\\x2E4\\x3Ac\\x2E1799T\\x3EA|CA123643|13961|1019.0|evidence|2136|https://civicdb.org/links/evidence/2136|17911174_(PubMed)|Somatic|submitted,T|missense_variant|BRAF|673|transcript|ENST00000288602.6|ENST00000288602.6:c.1799T>A||V600E|12|VAL600GLU&RS113488022|ENST00000288602\\x2E6\\x3Ac\\x2E1799T\\x3EA&NC\\x5F000007\\x2E13\\x3Ag\\x2E140453136A\\x3ET&NP\\x5F004324\\x2E2\\x3Ap\\x2EVal600Glu&NM\\x5F004333\\x2E4\\x3Ac\\x2E1799T\\x3EA|CA123643|13961|1019.0|evidence|2146|https://civicdb.org/links/evidence/2146|22735384_(PubMed)|Somatic|submitted,T|missense_variant|BRAF|673|transcript|ENST00000288602.6|ENST00000288602.6:c.1799T>A||V600E|12|VAL600GLU&RS113488022|ENST00000288602\\x2E6\\x3Ac\\x2E1799T\\x3EA&NC\\x5F000007\\x2E13\\x3Ag\\x2E140453136A\\x3ET&NP\\x5F004324\\x2E2\\x3Ap\\x2EVal600Glu&NM\\x5F004333\\x2E4\\x3Ac\\x2E1799T\\x3EA|CA123643|13961|1019.0|evidence|2139|https://civicdb.org/links/evidence/2139|21351275_(PubMed)|Somatic|submitted,T|missense_variant|BRAF|673|transcript|ENST00000288602.6|ENST00000288602.6:c.1799T>A||V600E|12|VAL600GLU&RS113488022|ENST00000288602\\x2E6\\x3Ac\\x2E1799T\\x3EA&NC\\x5F000007\\x2E13\\x3Ag\\x2E140453136A\\x3ET&NP\\x5F004324\\x2E2\\x3Ap\\x2EVal600Glu&NM\\x5F004333\\x2E4\\x3Ac\\x2E1799T\\x3EA|CA123643|13961|1019.0|evidence|2140|https://civicdb.org/links/evidence/2140|21882184_(PubMed)|Somatic|rejected,T|missense_variant|BRAF|673|transcript|ENST00000288602.6|ENST00000288602.6:c.1799T>A||V600E|12|VAL600GLU&RS113488022|ENST00000288602\\x2E6\\x3Ac\\x2E1799T\\x3EA&NC\\x5F000007\\x2E13\\x3Ag\\x2E140453136A\\x3ET&NP\\x5F004324\\x2E2\\x3Ap\\x2EVal600Glu&NM\\x5F004333\\x2E4\\x3Ac\\x2E1799T\\x3EA|CA123643|13961|1019.0|evidence|2138|https://civicdb.org/links/evidence/2138|21882184_(PubMed)|Somatic|rejected,T|missense_variant|BRAF|673|transcript|ENST00000288602.6|ENST00000288602.6:c.1799T>A||V600E|12|VAL600GLU&RS113488022|ENST00000288602\\x2E6\\x3Ac\\x2E1799T\\x3EA&NC\\x5F000007\\x2E13\\x3Ag\\x2E140453136A\\x3ET&NP\\x5F004324\\x2E2\\x3Ap\\x2EVal600Glu&NM\\x5F004333\\x2E4\\x3Ac\\x2E1799T\\x3EA|CA123643|13961|1019.0|evidence|2503|https://civicdb.org/links/evidence/2503|21882184_(PubMed)|Somatic|accepted,T|missense_variant|BRAF|673|transcript|ENST00000288602.6|ENST00000288602.6:c.1799T>A||V600E|12|VAL600GLU&RS113488022|ENST00000288602\\x2E6\\x3Ac\\x2E1799T\\x3EA&NC\\x5F000007\\x2E13\\x3Ag\\x2E140453136A\\x3ET&NP\\x5F004324\\x2E2\\x3Ap\\x2EVal600Glu&NM\\x5F004333\\x2E4\\x3Ac\\x2E1799T\\x3EA|CA123643|13961|1019.0|evidence|2144|https://civicdb.org/links/evidence/2144|20806365_(PubMed)|Somatic|submitted,T|missense_variant|BRAF|673|transcript|ENST00000288602.6|ENST00000288602.6:c.1799T>A||V600E|12|VAL600GLU&RS113488022|ENST00000288602\\x2E6\\x3Ac\\x2E1799T\\x3EA&NC\\x5F000007\\x2E13\\x3Ag\\x2E140453136A\\x3ET&NP\\x5F004324\\x2E2\\x3Ap\\x2EVal600Glu&NM\\x5F004333\\x2E4\\x3Ac\\x2E1799T\\x3EA|CA123643|13961|1019.0|evidence|3765|https://civicdb.org/links/evidence/3765|22492957_(PubMed)|Somatic|rejected,T|missense_variant|BRAF|673|transcript|ENST00000288602.6|ENST00000288602.6:c.1799T>A||V600E|12|VAL600GLU&RS113488022|ENST00000288602\\x2E6\\x3Ac\\x2E1799T\\x3EA&NC\\x5F000007\\x2E13\\x3Ag\\x2E140453136A\\x3ET&NP\\x5F004324\\x2E2\\x3Ap\\x2EVal600Glu&NM\\x5F004333\\x2E4\\x3Ac\\x2E1799T\\x3EA|CA123643|13961|1019.0|evidence|2145|https://civicdb.org/links/evidence/2145|22492957_(PubMed)|Somatic|submitted,T|missense_variant|BRAF|673|transcript|ENST00000288602.6|ENST00000288602.6:c.1799T>A||V600E|12|VAL600GLU&RS113488022|ENST00000288602\\x2E6\\x3Ac\\x2E1799T\\x3EA&NC\\x5F000007\\x2E13\\x3Ag\\x2E140453136A\\x3ET&NP\\x5F004324\\x2E2\\x3Ap\\x2EVal600Glu&NM\\x5F004333\\x2E4\\x3Ac\\x2E1799T\\x3EA|CA123643|13961|1019.0|evidence|3780|https://civicdb.org/links/evidence/3780|24888229_(PubMed)|Somatic|submitted,T|missense_variant|BRAF|673|transcript|ENST00000288602.6|ENST00000288602.6:c.1799T>A||V600E|12|VAL600GLU&RS113488022|ENST00000288602\\x2E6\\x3Ac\\x2E1799T\\x3EA&NC\\x5F000007\\x2E13\\x3Ag\\x2E140453136A\\x3ET&NP\\x5F004324\\x2E2\\x3Ap\\x2EVal600Glu&NM\\x5F004333\\x2E4\\x3Ac\\x2E1799T\\x3EA|CA123643|13961|1019.0|evidence|7157|https://civicdb.org/links/evidence/7157|21502544_(PubMed)|Somatic|accepted,T|missense_variant|BRAF|673|transcript|ENST00000288602.6|ENST00000288602.6:c.1799T>A||V600E|12|VAL600GLU&RS113488022|ENST00000288602\\x2E6\\x3Ac\\x2E1799T\\x3EA&NC\\x5F000007\\x2E13\\x3Ag\\x2E140453136A\\x3ET&NP\\x5F004324\\x2E2\\x3Ap\\x2EVal600Glu&NM\\x5F004333\\x2E4\\x3Ac\\x2E1799T\\x3EA|CA123643|13961|1019.0|evidence|3739|https://civicdb.org/links/evidence/3739|25666295_(PubMed)|Somatic|accepted,T|missense_variant|BRAF|673|transcript|ENST00000288602.6|ENST00000288602.6:c.1799T>A||V600E|12|VAL600GLU&RS113488022|ENST00000288602\\x2E6\\x3Ac\\x2E1799T\\x3EA&NC\\x5F000007\\x2E13\\x3Ag\\x2E140453136A\\x3ET&NP\\x5F004324\\x2E2\\x3Ap\\x2EVal600Glu&NM\\x5F004333\\x2E4\\x3Ac\\x2E1799T\\x3EA|CA123643|13961|1019.0|evidence|3736|https://civicdb.org/links/evidence/3736|19884556_(PubMed)|Somatic|submitted,T|missense_variant|BRAF|673|transcript|ENST00000288602.6|ENST00000288602.6:c.1799T>A||V600E|12|VAL600GLU&RS113488022|ENST00000288602\\x2E6\\x3Ac\\x2E1799T\\x3EA&NC\\x5F000007\\x2E13\\x3Ag\\x2E140453136A\\x3ET&NP\\x5F004324\\x2E2\\x3Ap\\x2EVal600Glu&NM\\x5F004333\\x2E4\\x3Ac\\x2E1799T\\x3EA|CA123643|13961|1019.0|evidence|3749|https://civicdb.org/links/evidence/3749|24463458_(PubMed)|Somatic|submitted,T|missense_variant|BRAF|673|transcript|ENST00000288602.6|ENST00000288602.6:c.1799T>A||V600E|12|VAL600GLU&RS113488022|ENST00000288602\\x2E6\\x3Ac\\x2E1799T\\x3EA&NC\\x5F000007\\x2E13\\x3Ag\\x2E140453136A\\x3ET&NP\\x5F004324\\x2E2\\x3Ap\\x2EVal600Glu&NM\\x5F004333\\x2E4\\x3Ac\\x2E1799T\\x3EA|CA123643|13961|1019.0|evidence|3741|https://civicdb.org/links/evidence/3741|22448344_(PubMed)|Somatic|submitted,T|missense_variant|BRAF|673|transcript|ENST00000288602.6|ENST00000288602.6:c.1799T>A||V600E|12|VAL600GLU&RS113488022|ENST00000288602\\x2E6\\x3Ac\\x2E1799T\\x3EA&NC\\x5F000007\\x2E13\\x3Ag\\x2E140453136A\\x3ET&NP\\x5F004324\\x2E2\\x3Ap\\x2EVal600Glu&NM\\x5F004333\\x2E4\\x3Ac\\x2E1799T\\x3EA|CA123643|13961|1019.0|evidence|3751|https://civicdb.org/links/evidence/3751|18287029_(PubMed)|Somatic|submitted,T|missense_variant|BRAF|673|transcript|ENST00000288602.6|ENST00000288602.6:c.1799T>A||V600E|12|VAL600GLU&RS113488022|ENST00000288602\\x2E6\\x3Ac\\x2E1799T\\x3EA&NC\\x5F000007\\x2E13\\x3Ag\\x2E140453136A\\x3ET&NP\\x5F004324\\x2E2\\x3Ap\\x2EVal600Glu&NM\\x5F004333\\x2E4\\x3Ac\\x2E1799T\\x3EA|CA123643|13961|1019.0|evidence|3740|https://civicdb.org/links/evidence/3740|26989027_(PubMed)|Somatic|submitted,T|missense_variant|BRAF|673|transcript|ENST00000288602.6|ENST00000288602.6:c.1799T>A||V600E|12|VAL600GLU&RS113488022|ENST00000288602\\x2E6\\x3Ac\\x2E1799T\\x3EA&NC\\x5F000007\\x2E13\\x3Ag\\x2E140453136A\\x3ET&NP\\x5F004324\\x2E2\\x3Ap\\x2EVal600Glu&NM\\x5F004333\\x2E4\\x3Ac\\x2E1799T\\x3EA|CA123643|13961|1019.0|evidence|3754|https://civicdb.org/links/evidence/3754|24616537_(PubMed)|Somatic|submitted,T|missense_variant|BRAF|673|transcript|ENST00000288602.6|ENST00000288602.6:c.1799T>A||V600E|12|VAL600GLU&RS113488022|ENST00000288602\\x2E6\\x3Ac\\x2E1799T\\x3EA&NC\\x5F000007\\x2E13\\x3Ag\\x2E140453136A\\x3ET&NP\\x5F004324\\x2E2\\x3Ap\\x2EVal600Glu&NM\\x5F004333\\x2E4\\x3Ac\\x2E1799T\\x3EA|CA123643|13961|1019.0|evidence|3752|https://civicdb.org/links/evidence/3752|26070258_(PubMed)|Somatic|submitted,T|missense_variant|BRAF|673|transcript|ENST00000288602.6|ENST00000288602.6:c.1799T>A||V600E|12|VAL600GLU&RS113488022|ENST00000288602\\x2E6\\x3Ac\\x2E1799T\\x3EA&NC\\x5F000007\\x2E13\\x3Ag\\x2E140453136A\\x3ET&NP\\x5F004324\\x2E2\\x3Ap\\x2EVal600Glu&NM\\x5F004333\\x2E4\\x3Ac\\x2E1799T\\x3EA|CA123643|13961|1019.0|evidence|3756|https://civicdb.org/links/evidence/3756|22241959_(PubMed)|Somatic|submitted,T|missense_variant|BRAF|673|transcript|ENST00000288602.6|ENST00000288602.6:c.1799T>A||V600E|12|VAL600GLU&RS113488022|ENST00000288602\\x2E6\\x3Ac\\x2E1799T\\x3EA&NC\\x5F000007\\x2E13\\x3Ag\\x2E140453136A\\x3ET&NP\\x5F004324\\x2E2\\x3Ap\\x2EVal600Glu&NM\\x5F004333\\x2E4\\x3Ac\\x2E1799T\\x3EA|CA123643|13961|1019.0|evidence|3761|https://civicdb.org/links/evidence/3761|25706985_(PubMed)|Somatic|submitted,T|missense_variant|BRAF|673|transcript|ENST00000288602.6|ENST00000288602.6:c.1799T>A||V600E|12|VAL600GLU&RS113488022|ENST00000288602\\x2E6\\x3Ac\\x2E1799T\\x3EA&NC\\x5F000007\\x2E13\\x3Ag\\x2E140453136A\\x3ET&NP\\x5F004324\\x2E2\\x3Ap\\x2EVal600Glu&NM\\x5F004333\\x2E4\\x3Ac\\x2E1799T\\x3EA|CA123643|13961|1019.0|evidence|3755|https://civicdb.org/links/evidence/3755|26557775_(PubMed)|Somatic|accepted,T|missense_variant|BRAF|673|transcript|ENST00000288602.6|ENST00000288602.6:c.1799T>A||V600E|12|VAL600GLU&RS113488022|ENST00000288602\\x2E6\\x3Ac\\x2E1799T\\x3EA&NC\\x5F000007\\x2E13\\x3Ag\\x2E140453136A\\x3ET&NP\\x5F004324\\x2E2\\x3Ap\\x2EVal600Glu&NM\\x5F004333\\x2E4\\x3Ac\\x2E1799T\\x3EA|CA123643|13961|1019.0|evidence|3760|https://civicdb.org/links/evidence/3760|18458053_(PubMed)|Somatic|submitted,T|missense_variant|BRAF|673|transcript|ENST00000288602.6|ENST00000288602.6:c.1799T>A||V600E|12|VAL600GLU&RS113488022|ENST00000288602\\x2E6\\x3Ac\\x2E1799T\\x3EA&NC\\x5F000007\\x2E13\\x3Ag\\x2E140453136A\\x3ET&NP\\x5F004324\\x2E2\\x3Ap\\x2EVal600Glu&NM\\x5F004333\\x2E4\\x3Ac\\x2E1799T\\x3EA|CA123643|13961|1019.0|evidence|3763|https://civicdb.org/links/evidence/3763|20068183_(PubMed)|Somatic|rejected,T|missense_variant|BRAF|673|transcript|ENST00000288602.6|ENST00000288602.6:c.1799T>A||V600E|12|VAL600GLU&RS113488022|ENST00000288602\\x2E6\\x3Ac\\x2E1799T\\x3EA&NC\\x5F000007\\x2E13\\x3Ag\\x2E140453136A\\x3ET&NP\\x5F004324\\x2E2\\x3Ap\\x2EVal600Glu&NM\\x5F004333\\x2E4\\x3Ac\\x2E1799T\\x3EA|CA123643|13961|1019.0|evidence|3770|https://civicdb.org/links/evidence/3770|27116997_(PubMed)|Somatic|submitted,T|missense_variant|BRAF|673|transcript|ENST00000288602.6|ENST00000288602.6:c.1799T>A||V600E|12|VAL600GLU&RS113488022|ENST00000288602\\x2E6\\x3Ac\\x2E1799T\\x3EA&NC\\x5F000007\\x2E13\\x3Ag\\x2E140453136A\\x3ET&NP\\x5F004324\\x2E2\\x3Ap\\x2EVal600Glu&NM\\x5F004333\\x2E4\\x3Ac\\x2E1799T\\x3EA|CA123643|13961|1019.0|evidence|3774|https://civicdb.org/links/evidence/3774|23489023_(PubMed)|Somatic|submitted,T|missense_variant|BRAF|673|transcript|ENST00000288602.6|ENST00000288602.6:c.1799T>A||V600E|12|VAL600GLU&RS113488022|ENST00000288602\\x2E6\\x3Ac\\x2E1799T\\x3EA&NC\\x5F000007\\x2E13\\x3Ag\\x2E140453136A\\x3ET&NP\\x5F004324\\x2E2\\x3Ap\\x2EVal600Glu&NM\\x5F004333\\x2E4\\x3Ac\\x2E1799T\\x3EA|CA123643|13961|1019.0|evidence|3757|https://civicdb.org/links/evidence/3757|25524477_(PubMed)|Somatic|accepted,T|missense_variant|BRAF|673|transcript|ENST00000288602.6|ENST00000288602.6:c.1799T>A||V600E|12|VAL600GLU&RS113488022|ENST00000288602\\x2E6\\x3Ac\\x2E1799T\\x3EA&NC\\x5F000007\\x2E13\\x3Ag\\x2E140453136A\\x3ET&NP\\x5F004324\\x2E2\\x3Ap\\x2EVal600Glu&NM\\x5F004333\\x2E4\\x3Ac\\x2E1799T\\x3EA|CA123643|13961|1019.0|evidence|3764|https://civicdb.org/links/evidence/3764|21274720_(PubMed)|Somatic|rejected,T|missense_variant|BRAF|673|transcript|ENST00000288602.6|ENST00000288602.6:c.1799T>A||V600E|12|VAL600GLU&RS113488022|ENST00000288602\\x2E6\\x3Ac\\x2E1799T\\x3EA&NC\\x5F000007\\x2E13\\x3Ag\\x2E140453136A\\x3ET&NP\\x5F004324\\x2E2\\x3Ap\\x2EVal600Glu&NM\\x5F004333\\x2E4\\x3Ac\\x2E1799T\\x3EA|CA123643|13961|1019.0|evidence|3771|https://civicdb.org/links/evidence/3771|24725538_(PubMed)|Somatic|submitted,T|missense_variant|BRAF|673|transcript|ENST00000288602.6|ENST00000288602.6:c.1799T>A||V600E|12|VAL600GLU&RS113488022|ENST00000288602\\x2E6\\x3Ac\\x2E1799T\\x3EA&NC\\x5F000007\\x2E13\\x3Ag\\x2E140453136A\\x3ET&NP\\x5F004324\\x2E2\\x3Ap\\x2EVal600Glu&NM\\x5F004333\\x2E4\\x3Ac\\x2E1799T\\x3EA|CA123643|13961|1019.0|evidence|3773|https://civicdb.org/links/evidence/3773|25353071_(PubMed)|Somatic|submitted,T|missense_variant|BRAF|673|transcript|ENST00000288602.6|ENST00000288602.6:c.1799T>A||V600E|12|VAL600GLU&RS113488022|ENST00000288602\\x2E6\\x3Ac\\x2E1799T\\x3EA&NC\\x5F000007\\x2E13\\x3Ag\\x2E140453136A\\x3ET&NP\\x5F004324\\x2E2\\x3Ap\\x2EVal600Glu&NM\\x5F004333\\x2E4\\x3Ac\\x2E1799T\\x3EA|CA123643|13961|1019.0|evidence|3782|https://civicdb.org/links/evidence/3782|26200454_(PubMed)|Somatic|submitted,T|missense_variant|BRAF|673|transcript|ENST00000288602.6|ENST00000288602.6:c.1799T>A||V600E|12|VAL600GLU&RS113488022|ENST00000288602\\x2E6\\x3Ac\\x2E1799T\\x3EA&NC\\x5F000007\\x2E13\\x3Ag\\x2E140453136A\\x3ET&NP\\x5F004324\\x2E2\\x3Ap\\x2EVal600Glu&NM\\x5F004333\\x2E4\\x3Ac\\x2E1799T\\x3EA|CA123643|13961|1019.0|evidence|3785|https://civicdb.org/links/evidence/3785|26456083_(PubMed)|Somatic|submitted,T|missense_variant|BRAF|673|transcript|ENST00000288602.6|ENST00000288602.6:c.1799T>A||V600E|12|VAL600GLU&RS113488022|ENST00000288602\\x2E6\\x3Ac\\x2E1799T\\x3EA&NC\\x5F000007\\x2E13\\x3Ag\\x2E140453136A\\x3ET&NP\\x5F004324\\x2E2\\x3Ap\\x2EVal600Glu&NM\\x5F004333\\x2E4\\x3Ac\\x2E1799T\\x3EA|CA123643|13961|1019.0|evidence|3776|https://civicdb.org/links/evidence/3776|26865419_(PubMed)|Somatic|submitted,T|missense_variant|BRAF|673|transcript|ENST00000288602.6|ENST00000288602.6:c.1799T>A||V600E|12|VAL600GLU&RS113488022|ENST00000288602\\x2E6\\x3Ac\\x2E1799T\\x3EA&NC\\x5F000007\\x2E13\\x3Ag\\x2E140453136A\\x3ET&NP\\x5F004324\\x2E2\\x3Ap\\x2EVal600Glu&NM\\x5F004333\\x2E4\\x3Ac\\x2E1799T\\x3EA|CA123643|13961|1019.0|evidence|3779|https://civicdb.org/links/evidence/3779|26286452_(PubMed)|Somatic|submitted,T|missense_variant|BRAF|673|transcript|ENST00000288602.6|ENST00000288602.6:c.1799T>A||V600E|12|VAL600GLU&RS113488022|ENST00000288602\\x2E6\\x3Ac\\x2E1799T\\x3EA&NC\\x5F000007\\x2E13\\x3Ag\\x2E140453136A\\x3ET&NP\\x5F004324\\x2E2\\x3Ap\\x2EVal600Glu&NM\\x5F004333\\x2E4\\x3Ac\\x2E1799T\\x3EA|CA123643|13961|1019.0|evidence|3784|https://civicdb.org/links/evidence/3784|21185263_(PubMed)|Somatic|submitted,T|missense_variant|BRAF|673|transcript|ENST00000288602.6|ENST00000288602.6:c.1799T>A||V600E|12|VAL600GLU&RS113488022|ENST00000288602\\x2E6\\x3Ac\\x2E1799T\\x3EA&NC\\x5F000007\\x2E13\\x3Ag\\x2E140453136A\\x3ET&NP\\x5F004324\\x2E2\\x3Ap\\x2EVal600Glu&NM\\x5F004333\\x2E4\\x3Ac\\x2E1799T\\x3EA|CA123643|13961|1019.0|evidence|3786|https://civicdb.org/links/evidence/3786|25092772_(PubMed)|Somatic|submitted,T|missense_variant|BRAF|673|transcript|ENST00000288602.6|ENST00000288602.6:c.1799T>A||V600E|12|VAL600GLU&RS113488022|ENST00000288602\\x2E6\\x3Ac\\x2E1799T\\x3EA&NC\\x5F000007\\x2E13\\x3Ag\\x2E140453136A\\x3ET&NP\\x5F004324\\x2E2\\x3Ap\\x2EVal600Glu&NM\\x5F004333\\x2E4\\x3Ac\\x2E1799T\\x3EA|CA123643|13961|1019.0|evidence|5906|https://civicdb.org/links/evidence/5906|26687137_(PubMed)|Somatic|accepted,T|missense_variant|BRAF|673|transcript|ENST00000288602.6|ENST00000288602.6:c.1799T>A||V600E|12|VAL600GLU&RS113488022|ENST00000288602\\x2E6\\x3Ac\\x2E1799T\\x3EA&NC\\x5F000007\\x2E13\\x3Ag\\x2E140453136A\\x3ET&NP\\x5F004324\\x2E2\\x3Ap\\x2EVal600Glu&NM\\x5F004333\\x2E4\\x3Ac\\x2E1799T\\x3EA|CA123643|13961|1019.0|evidence|5902|https://civicdb.org/links/evidence/5902|28480077_(PubMed)|Somatic|accepted,T|missense_variant|BRAF|673|transcript|ENST00000288602.6|ENST00000288602.6:c.1799T>A||V600E|12|VAL600GLU&RS113488022|ENST00000288602\\x2E6\\x3Ac\\x2E1799T\\x3EA&NC\\x5F000007\\x2E13\\x3Ag\\x2E140453136A\\x3ET&NP\\x5F004324\\x2E2\\x3Ap\\x2EVal600Glu&NM\\x5F004333\\x2E4\\x3Ac\\x2E1799T\\x3EA|CA123643|13961|1019.0|evidence|5903|https://civicdb.org/links/evidence/5903|28078132_(PubMed)|Somatic|accepted,T|missense_variant|BRAF|673|transcript|ENST00000288602.6|ENST00000288602.6:c.1799T>A||V600E|12|VAL600GLU&RS113488022|ENST00000288602\\x2E6\\x3Ac\\x2E1799T\\x3EA&NC\\x5F000007\\x2E13\\x3Ag\\x2E140453136A\\x3ET&NP\\x5F004324\\x2E2\\x3Ap\\x2EVal600Glu&NM\\x5F004333\\x2E4\\x3Ac\\x2E1799T\\x3EA|CA123643|13961|1019.0|evidence|5904|https://civicdb.org/links/evidence/5904|25435907_(PubMed)|Somatic|accepted,T|missense_variant|BRAF|673|transcript|ENST00000288602.6|ENST00000288602.6:c.1799T>A||V600E|12|VAL600GLU&RS113488022|ENST00000288602\\x2E6\\x3Ac\\x2E1799T\\x3EA&NC\\x5F000007\\x2E13\\x3Ag\\x2E140453136A\\x3ET&NP\\x5F004324\\x2E2\\x3Ap\\x2EVal600Glu&NM\\x5F004333\\x2E4\\x3Ac\\x2E1799T\\x3EA|CA123643|13961|1019.0|evidence|5962|https://civicdb.org/links/evidence/5962|29320312_(PubMed)|Somatic|accepted,T|missense_variant|BRAF|673|transcript|ENST00000288602.6|ENST00000288602.6:c.1799T>A||V600E|12|VAL600GLU&RS113488022|ENST00000288602\\x2E6\\x3Ac\\x2E1799T\\x3EA&NC\\x5F000007\\x2E13\\x3Ag\\x2E140453136A\\x3ET&NP\\x5F004324\\x2E2\\x3Ap\\x2EVal600Glu&NM\\x5F004333\\x2E4\\x3Ac\\x2E1799T\\x3EA|CA123643|13961|1019.0|evidence|5961|https://civicdb.org/links/evidence/5961|29320312_(PubMed)|Somatic|accepted,T|missense_variant|BRAF|673|transcript|ENST00000288602.6|ENST00000288602.6:c.1799T>A||V600E|12|VAL600GLU&RS113488022|ENST00000288602\\x2E6\\x3Ac\\x2E1799T\\x3EA&NC\\x5F000007\\x2E13\\x3Ag\\x2E140453136A\\x3ET&NP\\x5F004324\\x2E2\\x3Ap\\x2EVal600Glu&NM\\x5F004333\\x2E4\\x3Ac\\x2E1799T\\x3EA|CA123643|13961|1019.0|evidence|5960|https://civicdb.org/links/evidence/5960|29320312_(PubMed)|Somatic|accepted,T|missense_variant|BRAF|673|transcript|ENST00000288602.6|ENST00000288602.6:c.1799T>A||V600E|12|VAL600GLU&RS113488022|ENST00000288602\\x2E6\\x3Ac\\x2E1799T\\x3EA&NC\\x5F000007\\x2E13\\x3Ag\\x2E140453136A\\x3ET&NP\\x5F004324\\x2E2\\x3Ap\\x2EVal600Glu&NM\\x5F004333\\x2E4\\x3Ac\\x2E1799T\\x3EA|CA123643|13961|1019.0|evidence|5959|https://civicdb.org/links/evidence/5959|29320312_(PubMed)|Somatic|accepted,T|missense_variant|BRAF|673|transcript|ENST00000288602.6|ENST00000288602.6:c.1799T>A||V600E|12|VAL600GLU&RS113488022|ENST00000288602\\x2E6\\x3Ac\\x2E1799T\\x3EA&NC\\x5F000007\\x2E13\\x3Ag\\x2E140453136A\\x3ET&NP\\x5F004324\\x2E2\\x3Ap\\x2EVal600Glu&NM\\x5F004333\\x2E4\\x3Ac\\x2E1799T\\x3EA|CA123643|13961|1019.0|evidence|5958|https://civicdb.org/links/evidence/5958|29320312_(PubMed)|Somatic|accepted,T|missense_variant|BRAF|673|transcript|ENST00000288602.6|ENST00000288602.6:c.1799T>A||V600E|12|VAL600GLU&RS113488022|ENST00000288602\\x2E6\\x3Ac\\x2E1799T\\x3EA&NC\\x5F000007\\x2E13\\x3Ag\\x2E140453136A\\x3ET&NP\\x5F004324\\x2E2\\x3Ap\\x2EVal600Glu&NM\\x5F004333\\x2E4\\x3Ac\\x2E1799T\\x3EA|CA123643|13961|1019.0|evidence|6123|https://civicdb.org/links/evidence/6123|29431699_(PubMed)|Somatic|accepted,T|missense_variant|BRAF|673|transcript|ENST00000288602.6|ENST00000288602.6:c.1799T>A||V600E|12|VAL600GLU&RS113488022|ENST00000288602\\x2E6\\x3Ac\\x2E1799T\\x3EA&NC\\x5F000007\\x2E13\\x3Ag\\x2E140453136A\\x3ET&NP\\x5F004324\\x2E2\\x3Ap\\x2EVal600Glu&NM\\x5F004333\\x2E4\\x3Ac\\x2E1799T\\x3EA|CA123643|13961|1019.0|evidence|6124|https://civicdb.org/links/evidence/6124|29431699_(PubMed)|Somatic|accepted,T|missense_variant|BRAF|673|transcript|ENST00000288602.6|ENST00000288602.6:c.1799T>A||V600E|12|VAL600GLU&RS113488022|ENST00000288602\\x2E6\\x3Ac\\x2E1799T\\x3EA&NC\\x5F000007\\x2E13\\x3Ag\\x2E140453136A\\x3ET&NP\\x5F004324\\x2E2\\x3Ap\\x2EVal600Glu&NM\\x5F004333\\x2E4\\x3Ac\\x2E1799T\\x3EA|CA123643|13961|1019.0|evidence|6178|https://civicdb.org/links/evidence/6178|28891408_(PubMed)|Somatic|accepted,T|missense_variant|BRAF|673|transcript|ENST00000288602.6|ENST00000288602.6:c.1799T>A||V600E|12|VAL600GLU&RS113488022|ENST00000288602\\x2E6\\x3Ac\\x2E1799T\\x3EA&NC\\x5F000007\\x2E13\\x3Ag\\x2E140453136A\\x3ET&NP\\x5F004324\\x2E2\\x3Ap\\x2EVal600Glu&NM\\x5F004333\\x2E4\\x3Ac\\x2E1799T\\x3EA|CA123643|13961|1019.0|evidence|6938|https://civicdb.org/links/evidence/6938|25265492_(PubMed)|Somatic|accepted,T|missense_variant|BRAF|673|transcript|ENST00000288602.6|ENST00000288602.6:c.1799T>A||V600E|12|VAL600GLU&RS113488022|ENST00000288602\\x2E6\\x3Ac\\x2E1799T\\x3EA&NC\\x5F000007\\x2E13\\x3Ag\\x2E140453136A\\x3ET&NP\\x5F004324\\x2E2\\x3Ap\\x2EVal600Glu&NM\\x5F004333\\x2E4\\x3Ac\\x2E1799T\\x3EA|CA123643|13961|1019.0|evidence|7156|https://civicdb.org/links/evidence/7156|20008640_(PubMed)|Somatic|accepted,T|missense_variant|BRAF|673|transcript|ENST00000288602.6|ENST00000288602.6:c.1799T>A||V600E|12|VAL600GLU&RS113488022|ENST00000288602\\x2E6\\x3Ac\\x2E1799T\\x3EA&NC\\x5F000007\\x2E13\\x3Ag\\x2E140453136A\\x3ET&NP\\x5F004324\\x2E2\\x3Ap\\x2EVal600Glu&NM\\x5F004333\\x2E4\\x3Ac\\x2E1799T\\x3EA|CA123643|13961|1019.0|evidence|7191|https://civicdb.org/links/evidence/7191|29948154_(PubMed)|Somatic|submitted,T|missense_variant|BRAF|673|transcript|ENST00000288602.6|ENST00000288602.6:c.1799T>A||V600E|12|VAL600GLU&RS113488022|ENST00000288602\\x2E6\\x3Ac\\x2E1799T\\x3EA&NC\\x5F000007\\x2E13\\x3Ag\\x2E140453136A\\x3ET&NP\\x5F004324\\x2E2\\x3Ap\\x2EVal600Glu&NM\\x5F004333\\x2E4\\x3Ac\\x2E1799T\\x3EA|CA123643|13961|1019.0|evidence|7260|https://civicdb.org/links/evidence/7260|168986_(ASCO)|Somatic|submitted,T|missense_variant|BRAF|673|transcript|ENST00000288602.6|ENST00000288602.6:c.1799T>A||V600E|12|VAL600GLU&RS113488022|ENST00000288602\\x2E6\\x3Ac\\x2E1799T\\x3EA&NC\\x5F000007\\x2E13\\x3Ag\\x2E140453136A\\x3ET&NP\\x5F004324\\x2E2\\x3Ap\\x2EVal600Glu&NM\\x5F004333\\x2E4\\x3Ac\\x2E1799T\\x3EA|CA123643|13961|1019.0|evidence|7264|https://civicdb.org/links/evidence/7264|169315_(ASCO)|Somatic|submitted,T|missense_variant|BRAF|673|transcript|ENST00000288602.6|ENST00000288602.6:c.1799T>A||V600E|12|VAL600GLU&RS113488022|ENST00000288602\\x2E6\\x3Ac\\x2E1799T\\x3EA&NC\\x5F000007\\x2E13\\x3Ag\\x2E140453136A\\x3ET&NP\\x5F004324\\x2E2\\x3Ap\\x2EVal600Glu&NM\\x5F004333\\x2E4\\x3Ac\\x2E1799T\\x3EA|CA123643|13961|1019.0|evidence|7583|https://civicdb.org/links/evidence/7583|31513482_(PubMed)|Somatic|submitted,T|missense_variant|BRAF|673|transcript|ENST00000288602.6|ENST00000288602.6:c.1799T>A||V600E|12|VAL600GLU&RS113488022|ENST00000288602\\x2E6\\x3Ac\\x2E1799T\\x3EA&NC\\x5F000007\\x2E13\\x3Ag\\x2E140453136A\\x3ET&NP\\x5F004324\\x2E2\\x3Ap\\x2EVal600Glu&NM\\x5F004333\\x2E4\\x3Ac\\x2E1799T\\x3EA|CA123643|13961|1019.0|evidence|7612|https://civicdb.org/links/evidence/7612|31566309_(PubMed)|Somatic|submitted,T|missense_variant|BRAF|673|transcript|ENST00000288602.6|ENST00000288602.6:c.1799T>A||V600E|12|VAL600GLU&RS113488022|ENST00000288602\\x2E6\\x3Ac\\x2E1799T\\x3EA&NC\\x5F000007\\x2E13\\x3Ag\\x2E140453136A\\x3ET&NP\\x5F004324\\x2E2\\x3Ap\\x2EVal600Glu&NM\\x5F004333\\x2E4\\x3Ac\\x2E1799T\\x3EA|CA123643|13961|1019.0|evidence|7762|https://civicdb.org/links/evidence/7762|145877_(ASCO)|Somatic|submitted,T|missense_variant|BRAF|673|transcript|ENST00000288602.6|ENST00000288602.6:c.1799T>A||V600E|12|VAL600GLU&RS113488022|ENST00000288602\\x2E6\\x3Ac\\x2E1799T\\x3EA&NC\\x5F000007\\x2E13\\x3Ag\\x2E140453136A\\x3ET&NP\\x5F004324\\x2E2\\x3Ap\\x2EVal600Glu&NM\\x5F004333\\x2E4\\x3Ac\\x2E1799T\\x3EA|CA123643|13961|1019.0|evidence|7761|https://civicdb.org/links/evidence/7761|145877_(ASCO)|Somatic|submitted,T|missense_variant|BRAF|673|transcript|ENST00000288602.6|ENST00000288602.6:c.1799T>A||V600E|12|VAL600GLU&RS113488022|ENST00000288602\\x2E6\\x3Ac\\x2E1799T\\x3EA&NC\\x5F000007\\x2E13\\x3Ag\\x2E140453136A\\x3ET&NP\\x5F004324\\x2E2\\x3Ap\\x2EVal600Glu&NM\\x5F004333\\x2E4\\x3Ac\\x2E1799T\\x3EA|CA123643|13961|1019.0|assertion|10|https://civicdb.org/links/assertion/10||Somatic|accepted,T|missense_variant|BRAF|673|transcript|ENST00000288602.6|ENST00000288602.6:c.1799T>A||V600E|12|VAL600GLU&RS113488022|ENST00000288602\\x2E6\\x3Ac\\x2E1799T\\x3EA&NC\\x5F000007\\x2E13\\x3Ag\\x2E140453136A\\x3ET&NP\\x5F004324\\x2E2\\x3Ap\\x2EVal600Glu&NM\\x5F004333\\x2E4\\x3Ac\\x2E1799T\\x3EA|CA123643|13961|1019.0|assertion|12|https://civicdb.org/links/assertion/12||Somatic|rejected,T|missense_variant|BRAF|673|transcript|ENST00000288602.6|ENST00000288602.6:c.1799T>A||V600E|12|VAL600GLU&RS113488022|ENST00000288602\\x2E6\\x3Ac\\x2E1799T\\x3EA&NC\\x5F000007\\x2E13\\x3Ag\\x2E140453136A\\x3ET&NP\\x5F004324\\x2E2\\x3Ap\\x2EVal600Glu&NM\\x5F004333\\x2E4\\x3Ac\\x2E1799T\\x3EA|CA123643|13961|1019.0|assertion|7|https://civicdb.org/links/assertion/7||Somatic|accepted,T|missense_variant|BRAF|673|transcript|ENST00000288602.6|ENST00000288602.6:c.1799T>A||V600E|12|VAL600GLU&RS113488022|ENST00000288602\\x2E6\\x3Ac\\x2E1799T\\x3EA&NC\\x5F000007\\x2E13\\x3Ag\\x2E140453136A\\x3ET&NP\\x5F004324\\x2E2\\x3Ap\\x2EVal600Glu&NM\\x5F004333\\x2E4\\x3Ac\\x2E1799T\\x3EA|CA123643|13961|1019.0|assertion|20|https://civicdb.org/links/assertion/20||Somatic|accepted,T|missense_variant|BRAF|673|transcript|ENST00000288602.6|ENST00000288602.6:c.1799T>A||V600E|12|VAL600GLU&RS113488022|ENST00000288602\\x2E6\\x3Ac\\x2E1799T\\x3EA&NC\\x5F000007\\x2E13\\x3Ag\\x2E140453136A\\x3ET&NP\\x5F004324\\x2E2\\x3Ap\\x2EVal600Glu&NM\\x5F004333\\x2E4\\x3Ac\\x2E1799T\\x3EA|CA123643|13961|1019.0|assertion|23|https://civicdb.org/links/assertion/23||Somatic|submitted\n",
      "\n"
     ]
    }
   ],
   "source": [
    "from civicpy.exports import VCFWriter\n",
    "with open(\"example.vcf\", \"w\") as fh:\n",
    "    writer = VCFWriter(fh)\n",
    "    writer.addrecord(variant)\n",
    "    writer.writerecords()\n",
    "with open(\"example.vcf\", \"r\") as fh:\n",
    "    for line in fh:\n",
    "        print(line)"
   ]
  }
 ],
 "metadata": {
  "kernelspec": {
   "display_name": "Python 3",
   "language": "python",
   "name": "python3"
  },
  "language_info": {
   "codemirror_mode": {
    "name": "ipython",
    "version": 3
   },
   "file_extension": ".py",
   "mimetype": "text/x-python",
   "name": "python",
   "nbconvert_exporter": "python",
   "pygments_lexer": "ipython3",
   "version": "3.7.3"
  }
 },
 "nbformat": 4,
 "nbformat_minor": 2
}
