{
 "cells": [
  {
   "cell_type": "code",
   "execution_count": 1,
   "metadata": {},
   "outputs": [
    {
     "data": {
      "text/plain": [
       "True"
      ]
     },
     "execution_count": 1,
     "metadata": {},
     "output_type": "execute_result"
    }
   ],
   "source": [
    "from civicpy import civic"
   ]
  },
  {
   "cell_type": "code",
   "execution_count": 2,
   "metadata": {},
   "outputs": [
    {
     "data": {
      "text/plain": [
       "<CIViC variant 12>"
      ]
     },
     "execution_count": 2,
     "metadata": {},
     "output_type": "execute_result"
    }
   ],
   "source": [
    "variant = civic.get_variant_by_id(12)\n",
    "variant"
   ]
  },
  {
   "cell_type": "code",
   "execution_count": 3,
   "metadata": {},
   "outputs": [
    {
     "data": {
      "text/plain": [
       "('BRAF', 'V600E')"
      ]
     },
     "execution_count": 3,
     "metadata": {},
     "output_type": "execute_result"
    }
   ],
   "source": [
    "(variant.gene.name, variant.name)"
   ]
  },
  {
   "cell_type": "code",
   "execution_count": 4,
   "metadata": {},
   "outputs": [
    {
     "data": {
      "text/plain": [
       "[<CIViC evidence 3766>,\n",
       " <CIViC evidence 7485>,\n",
       " <CIViC evidence 7077>,\n",
       " <CIViC evidence 6975>,\n",
       " <CIViC evidence 3768>,\n",
       " <CIViC evidence 3781>,\n",
       " <CIViC evidence 3783>,\n",
       " <CIViC evidence 1591>,\n",
       " <CIViC evidence 3017>,\n",
       " <CIViC evidence 3769>,\n",
       " <CIViC evidence 3772>,\n",
       " <CIViC evidence 3744>,\n",
       " <CIViC evidence 3767>,\n",
       " <CIViC evidence 3777>,\n",
       " <CIViC evidence 3750>,\n",
       " <CIViC evidence 82>,\n",
       " <CIViC evidence 3759>,\n",
       " <CIViC evidence 126>,\n",
       " <CIViC evidence 105>,\n",
       " <CIViC evidence 107>,\n",
       " <CIViC evidence 79>,\n",
       " <CIViC evidence 80>,\n",
       " <CIViC evidence 86>,\n",
       " <CIViC evidence 90>,\n",
       " <CIViC evidence 1409>,\n",
       " <CIViC evidence 2894>,\n",
       " <CIViC evidence 89>,\n",
       " <CIViC evidence 2115>,\n",
       " <CIViC evidence 91>,\n",
       " <CIViC evidence 6940>,\n",
       " <CIViC evidence 95>,\n",
       " <CIViC evidence 96>,\n",
       " <CIViC evidence 97>,\n",
       " <CIViC evidence 99>,\n",
       " <CIViC evidence 98>,\n",
       " <CIViC evidence 102>,\n",
       " <CIViC evidence 103>,\n",
       " <CIViC evidence 104>,\n",
       " <CIViC evidence 106>,\n",
       " <CIViC evidence 3746>,\n",
       " <CIViC evidence 2132>,\n",
       " <CIViC evidence 3787>,\n",
       " <CIViC evidence 3790>,\n",
       " <CIViC evidence 3743>,\n",
       " <CIViC evidence 3788>,\n",
       " <CIViC evidence 3789>,\n",
       " <CIViC evidence 1698>,\n",
       " <CIViC evidence 1699>,\n",
       " <CIViC evidence 2118>,\n",
       " <CIViC evidence 2117>,\n",
       " <CIViC evidence 1413>,\n",
       " <CIViC evidence 463>,\n",
       " <CIViC evidence 7454>,\n",
       " <CIViC evidence 7453>,\n",
       " <CIViC evidence 3758>,\n",
       " <CIViC evidence 2143>,\n",
       " <CIViC evidence 1408>,\n",
       " <CIViC evidence 1406>,\n",
       " <CIViC evidence 3762>,\n",
       " <CIViC evidence 3753>,\n",
       " <CIViC evidence 1410>,\n",
       " <CIViC evidence 2119>,\n",
       " <CIViC evidence 3738>,\n",
       " <CIViC evidence 656>,\n",
       " <CIViC evidence 757>,\n",
       " <CIViC evidence 816>,\n",
       " <CIViC evidence 1428>,\n",
       " <CIViC evidence 1005>,\n",
       " <CIViC evidence 3775>,\n",
       " <CIViC evidence 3778>,\n",
       " <CIViC evidence 1127>,\n",
       " <CIViC evidence 1141>,\n",
       " <CIViC evidence 3747>,\n",
       " <CIViC evidence 3748>,\n",
       " <CIViC evidence 2134>,\n",
       " <CIViC evidence 2131>,\n",
       " <CIViC evidence 2130>,\n",
       " <CIViC evidence 2125>,\n",
       " <CIViC evidence 2128>,\n",
       " <CIViC evidence 2123>,\n",
       " <CIViC evidence 1398>,\n",
       " <CIViC evidence 1405>,\n",
       " <CIViC evidence 1414>,\n",
       " <CIViC evidence 1421>,\n",
       " <CIViC evidence 1430>,\n",
       " <CIViC evidence 1552>,\n",
       " <CIViC evidence 6045>,\n",
       " <CIViC evidence 3742>,\n",
       " <CIViC evidence 1579>,\n",
       " <CIViC evidence 1589>,\n",
       " <CIViC evidence 2135>,\n",
       " <CIViC evidence 2121>,\n",
       " <CIViC evidence 1902>,\n",
       " <CIViC evidence 1940>,\n",
       " <CIViC evidence 2124>,\n",
       " <CIViC evidence 1749>,\n",
       " <CIViC evidence 2127>,\n",
       " <CIViC evidence 2122>,\n",
       " <CIViC evidence 2126>,\n",
       " <CIViC evidence 3745>,\n",
       " <CIViC evidence 2133>,\n",
       " <CIViC evidence 2141>,\n",
       " <CIViC evidence 2504>,\n",
       " <CIViC evidence 2137>,\n",
       " <CIViC evidence 2142>,\n",
       " <CIViC evidence 2129>,\n",
       " <CIViC evidence 2136>,\n",
       " <CIViC evidence 2146>,\n",
       " <CIViC evidence 2139>,\n",
       " <CIViC evidence 2140>,\n",
       " <CIViC evidence 2138>,\n",
       " <CIViC evidence 2503>,\n",
       " <CIViC evidence 2144>,\n",
       " <CIViC evidence 3765>,\n",
       " <CIViC evidence 2145>,\n",
       " <CIViC evidence 3780>,\n",
       " <CIViC evidence 7157>,\n",
       " <CIViC evidence 3739>,\n",
       " <CIViC evidence 3736>,\n",
       " <CIViC evidence 3749>,\n",
       " <CIViC evidence 3741>,\n",
       " <CIViC evidence 3751>,\n",
       " <CIViC evidence 3740>,\n",
       " <CIViC evidence 3754>,\n",
       " <CIViC evidence 3752>,\n",
       " <CIViC evidence 3756>,\n",
       " <CIViC evidence 3761>,\n",
       " <CIViC evidence 3755>,\n",
       " <CIViC evidence 3760>,\n",
       " <CIViC evidence 3763>,\n",
       " <CIViC evidence 3770>,\n",
       " <CIViC evidence 3774>,\n",
       " <CIViC evidence 3757>,\n",
       " <CIViC evidence 3764>,\n",
       " <CIViC evidence 3771>,\n",
       " <CIViC evidence 3773>,\n",
       " <CIViC evidence 3782>,\n",
       " <CIViC evidence 3785>,\n",
       " <CIViC evidence 3776>,\n",
       " <CIViC evidence 3779>,\n",
       " <CIViC evidence 3784>,\n",
       " <CIViC evidence 3786>,\n",
       " <CIViC evidence 5906>,\n",
       " <CIViC evidence 5902>,\n",
       " <CIViC evidence 5903>,\n",
       " <CIViC evidence 5904>,\n",
       " <CIViC evidence 5962>,\n",
       " <CIViC evidence 5961>,\n",
       " <CIViC evidence 5960>,\n",
       " <CIViC evidence 5959>,\n",
       " <CIViC evidence 5958>,\n",
       " <CIViC evidence 6123>,\n",
       " <CIViC evidence 6124>,\n",
       " <CIViC evidence 6178>,\n",
       " <CIViC evidence 6938>,\n",
       " <CIViC evidence 7156>,\n",
       " <CIViC evidence 7191>,\n",
       " <CIViC evidence 7260>,\n",
       " <CIViC evidence 7264>,\n",
       " <CIViC evidence 7583>,\n",
       " <CIViC evidence 7612>,\n",
       " <CIViC evidence 7762>,\n",
       " <CIViC evidence 7761>]"
      ]
     },
     "execution_count": 4,
     "metadata": {},
     "output_type": "execute_result"
    }
   ],
   "source": [
    "variant.evidence"
   ]
  },
  {
   "cell_type": "code",
   "execution_count": 5,
   "metadata": {},
   "outputs": [
    {
     "data": {
      "text/plain": [
       "'Vemurafenib and cobimetinib combination is an FDA approved and NCCN Category 1 first line treatment for BRAF V600E mutant metastatic melanoma based on clinical data including the Phase III coBRIM trial. NCCN guidelines recommend combination BRAF/MEK inhibitor therapy over BRAF inhibitor monotherapy in this treatment context. Vemurafenib and cobimetinib combination is recommend as Category 2A treatment in second-line or later contexts, and it is recommended to use treatment options different from those used with the patient during first-line therapy. The cobas 4800 BRAF V600 Mutation Test is approved as an FDA companion test for Cotellic (cobimetinib) in combination with Zelboraf (vemurafenib).'"
      ]
     },
     "execution_count": 5,
     "metadata": {},
     "output_type": "execute_result"
    }
   ],
   "source": [
    "variant.assertions[0].description"
   ]
  },
  {
   "cell_type": "code",
   "execution_count": 6,
   "metadata": {},
   "outputs": [
    {
     "data": {
      "text/plain": [
       "True"
      ]
     },
     "execution_count": 6,
     "metadata": {},
     "output_type": "execute_result"
    }
   ],
   "source": [
    "all_evidence = civic.get_all_evidence()\n",
    "submitted_and_accepted_evidence = civic.get_all_evidence(include_status=['accepted', 'submitted'])\n",
    "len(all_evidence) > len(submitted_and_accepted_evidence)"
   ]
  },
  {
   "cell_type": "code",
   "execution_count": 7,
   "metadata": {},
   "outputs": [
    {
     "data": {
      "text/plain": [
       "['aliases',\n",
       " 'allele_registry_id',\n",
       " 'assertions',\n",
       " 'civic_actionability_score',\n",
       " 'clinvar_entries',\n",
       " 'coordinates',\n",
       " 'description',\n",
       " 'entrez_id',\n",
       " 'entrez_name',\n",
       " 'evidence',\n",
       " 'evidence_items',\n",
       " 'evidence_sources',\n",
       " 'gene',\n",
       " 'gene_id',\n",
       " 'groups',\n",
       " 'hgvs_expressions',\n",
       " 'id',\n",
       " 'is_deletion',\n",
       " 'is_insertion',\n",
       " 'is_valid_for_vcf',\n",
       " 'name',\n",
       " 'site_link',\n",
       " 'sources',\n",
       " 'type',\n",
       " 'types',\n",
       " 'update',\n",
       " 'variant_aliases',\n",
       " 'variant_groups',\n",
       " 'variant_types']"
      ]
     },
     "execution_count": 7,
     "metadata": {},
     "output_type": "execute_result"
    }
   ],
   "source": [
    "dir(variant)"
   ]
  }
 ],
 "metadata": {
  "kernelspec": {
   "display_name": "Python 3",
   "language": "python",
   "name": "python3"
  },
  "language_info": {
   "codemirror_mode": {
    "name": "ipython",
    "version": 3
   },
   "file_extension": ".py",
   "mimetype": "text/x-python",
   "name": "python",
   "nbconvert_exporter": "python",
   "pygments_lexer": "ipython3",
   "version": "3.7.3"
  }
 },
 "nbformat": 4,
 "nbformat_minor": 2
}
